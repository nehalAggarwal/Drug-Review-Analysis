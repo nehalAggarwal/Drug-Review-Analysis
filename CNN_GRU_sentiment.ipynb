{
  "nbformat": 4,
  "nbformat_minor": 0,
  "metadata": {
    "colab": {
      "name": "CNN_GRU_sentiment.ipynb",
      "provenance": [],
      "collapsed_sections": []
    },
    "kernelspec": {
      "name": "python3",
      "display_name": "Python 3"
    }
  },
  "cells": [
    {
      "cell_type": "code",
      "metadata": {
        "id": "36ZYOuGsQWOq",
        "colab_type": "code",
        "colab": {}
      },
      "source": [
        "# Load the Drive helper and mount\n",
        "from google.colab import drive"
      ],
      "execution_count": 0,
      "outputs": []
    },
    {
      "cell_type": "code",
      "metadata": {
        "id": "V1OoZjWRQeE1",
        "colab_type": "code",
        "outputId": "8b8ac712-74ad-4dc5-a1bd-23f63f006676",
        "colab": {
          "base_uri": "https://localhost:8080/",
          "height": 51
        }
      },
      "source": [
        "!pwd\n",
        "%cd /content/drive/My Drive/Term5/NLP/Project"
      ],
      "execution_count": 0,
      "outputs": [
        {
          "output_type": "stream",
          "text": [
            "/content\n",
            "/content/drive/My Drive/Term5/NLP/Project\n"
          ],
          "name": "stdout"
        }
      ]
    },
    {
      "cell_type": "code",
      "metadata": {
        "id": "PcH74oGLXNNO",
        "colab_type": "code",
        "outputId": "099a520f-72ee-430b-8af9-6f81e2e9863a",
        "colab": {
          "base_uri": "https://localhost:8080/",
          "height": 34
        }
      },
      "source": [
        "import pandas as pd\n",
        "from keras.preprocessing.text import Tokenizer"
      ],
      "execution_count": 0,
      "outputs": [
        {
          "output_type": "stream",
          "text": [
            "Using TensorFlow backend.\n"
          ],
          "name": "stderr"
        }
      ]
    },
    {
      "cell_type": "code",
      "metadata": {
        "id": "p5DJ4gCaXDTg",
        "colab_type": "code",
        "colab": {}
      },
      "source": [
        "def readFile(fileName):\n",
        "  filedata = pd.read_csv(fileName, delimiter='\\t', header = None, skiprows=1)\n",
        "  filedata.columns = [\"id\", \"drugName\", \"condition\", \"review\", \"rating\", \"date\", \"usefulCount\", \"clean_review\", \"sentiment\"]\n",
        "  filedata.drop(['review'], axis=1, inplace = True)\n",
        "  filedata.dropna(axis=0, inplace=True)\n",
        "  return filedata"
      ],
      "execution_count": 0,
      "outputs": []
    },
    {
      "cell_type": "code",
      "metadata": {
        "id": "_MBVvilSQeqI",
        "colab_type": "code",
        "colab": {}
      },
      "source": [
        "dataPath = '/content/drive/My Drive/Term5/NLP/Project/Dataset'\n",
        "outputPath = '/content/drive/My Drive/Term5/NLP/Project/Model_output/CNN_GRU/'\n",
        "glove_vectors_file = dataPath + '/../word_embeddings/glove.840B.300d.txt'"
      ],
      "execution_count": 0,
      "outputs": []
    },
    {
      "cell_type": "code",
      "metadata": {
        "id": "3QC83lC8W5Ex",
        "colab_type": "code",
        "colab": {}
      },
      "source": [
        "drug_train = dataPath + '/cleaned_Train_data.csv'\n",
        "drug_test = dataPath + '/cleaned_Test_data.csv'\n",
        "drug_valid = dataPath + '/cleaned_Valid_data.csv'"
      ],
      "execution_count": 0,
      "outputs": []
    },
    {
      "cell_type": "code",
      "metadata": {
        "id": "l1N8F32cW928",
        "colab_type": "code",
        "colab": {}
      },
      "source": [
        "train_data = readFile(drug_train)\n",
        "valid_data = readFile(drug_valid)\n",
        "test_data = readFile(drug_test)"
      ],
      "execution_count": 0,
      "outputs": []
    },
    {
      "cell_type": "code",
      "metadata": {
        "id": "63_uF3AWYxSL",
        "colab_type": "code",
        "outputId": "537914b1-cb0c-4555-b8cb-b42e34ac81db",
        "colab": {
          "base_uri": "https://localhost:8080/",
          "height": 141
        }
      },
      "source": [
        "train_data.head(3)"
      ],
      "execution_count": 0,
      "outputs": [
        {
          "output_type": "execute_result",
          "data": {
            "text/html": [
              "<div>\n",
              "<style scoped>\n",
              "    .dataframe tbody tr th:only-of-type {\n",
              "        vertical-align: middle;\n",
              "    }\n",
              "\n",
              "    .dataframe tbody tr th {\n",
              "        vertical-align: top;\n",
              "    }\n",
              "\n",
              "    .dataframe thead th {\n",
              "        text-align: right;\n",
              "    }\n",
              "</style>\n",
              "<table border=\"1\" class=\"dataframe\">\n",
              "  <thead>\n",
              "    <tr style=\"text-align: right;\">\n",
              "      <th></th>\n",
              "      <th>id</th>\n",
              "      <th>drugName</th>\n",
              "      <th>condition</th>\n",
              "      <th>rating</th>\n",
              "      <th>date</th>\n",
              "      <th>usefulCount</th>\n",
              "      <th>clean_review</th>\n",
              "      <th>sentiment</th>\n",
              "    </tr>\n",
              "  </thead>\n",
              "  <tbody>\n",
              "    <tr>\n",
              "      <th>0</th>\n",
              "      <td>204048</td>\n",
              "      <td>Xerac AC</td>\n",
              "      <td>Hyperhidrosis</td>\n",
              "      <td>10.0</td>\n",
              "      <td>May 15, 2010</td>\n",
              "      <td>10</td>\n",
              "      <td>wow struggl excess underarm sweat sever year r...</td>\n",
              "      <td>1</td>\n",
              "    </tr>\n",
              "    <tr>\n",
              "      <th>1</th>\n",
              "      <td>52764</td>\n",
              "      <td>Carbidopa / levodopa</td>\n",
              "      <td>Parkinson's Disease</td>\n",
              "      <td>4.0</td>\n",
              "      <td>December 30, 2016</td>\n",
              "      <td>17</td>\n",
              "      <td>rytari month first work well pill mg mg time d...</td>\n",
              "      <td>0</td>\n",
              "    </tr>\n",
              "    <tr>\n",
              "      <th>2</th>\n",
              "      <td>210591</td>\n",
              "      <td>Mirtazapine</td>\n",
              "      <td>Post Traumatic Stress Disorde</td>\n",
              "      <td>7.0</td>\n",
              "      <td>September 1, 2017</td>\n",
              "      <td>6</td>\n",
              "      <td>hey least one make manic suicid like zoloft pr...</td>\n",
              "      <td>1</td>\n",
              "    </tr>\n",
              "  </tbody>\n",
              "</table>\n",
              "</div>"
            ],
            "text/plain": [
              "       id  ... sentiment\n",
              "0  204048  ...         1\n",
              "1   52764  ...         0\n",
              "2  210591  ...         1\n",
              "\n",
              "[3 rows x 8 columns]"
            ]
          },
          "metadata": {
            "tags": []
          },
          "execution_count": 9
        }
      ]
    },
    {
      "cell_type": "code",
      "metadata": {
        "id": "uc_0I3LNQOEz",
        "colab_type": "code",
        "colab": {}
      },
      "source": [
        "import io\n",
        "import numpy as np"
      ],
      "execution_count": 0,
      "outputs": []
    },
    {
      "cell_type": "code",
      "metadata": {
        "id": "YMvspDcaRY2R",
        "colab_type": "code",
        "outputId": "35eeb086-646d-4d66-b399-7f582d2063d0",
        "colab": {
          "base_uri": "https://localhost:8080/",
          "height": 51
        }
      },
      "source": [
        "#http://nlp.stanford.edu/data/glove.840B.300d.zip\n",
        "glove_embeddings = {}\n",
        "\n",
        "print('Loading '+ glove_vectors_file)\n",
        "with open(glove_vectors_file, 'r') as f:\n",
        "  for line in f:\n",
        "    values = line.split(' ')\n",
        "    word = values[0]\n",
        "    embedding = np.asarray(values[1:], dtype='float32')\n",
        "    glove_embeddings[word] = embedding\n",
        "        \n",
        "print('Embeddings size: %d' % len(glove_embeddings))"
      ],
      "execution_count": 0,
      "outputs": [
        {
          "output_type": "stream",
          "text": [
            "Loading /content/drive/My Drive/Term5/NLP/Project/Dataset/../word_embeddings/glove.840B.300d.txt\n",
            "Embeddings size: 2196016\n"
          ],
          "name": "stdout"
        }
      ]
    },
    {
      "cell_type": "code",
      "metadata": {
        "id": "06vLHnysReAD",
        "colab_type": "code",
        "colab": {}
      },
      "source": [
        "embedding_dim = 300"
      ],
      "execution_count": 0,
      "outputs": []
    },
    {
      "cell_type": "code",
      "metadata": {
        "id": "NcjTJusKRexy",
        "colab_type": "code",
        "colab": {}
      },
      "source": [
        "def convertSentencesToList(traindata, validdata):\n",
        "  train_sentence = traindata['clean_review'].values.tolist()\n",
        "  valid_sentence = validdata['clean_review'].values.tolist()\n",
        "  return train_sentence, valid_sentence"
      ],
      "execution_count": 0,
      "outputs": []
    },
    {
      "cell_type": "code",
      "metadata": {
        "id": "B4zqDEVHSzKk",
        "colab_type": "code",
        "colab": {}
      },
      "source": [
        "def converToWordSequences(embeddinglength, training_data, t_s, v_s):\n",
        "  tokenizer = Tokenizer(num_words = embeddinglength)\n",
        "  tokenizer.fit_on_texts(training_data)\n",
        "\n",
        "  t_s_word_sequences = tokenizer.texts_to_sequences(t_s)\n",
        "\n",
        "  v_s_word_sequences = tokenizer.texts_to_sequences(v_s)\n",
        "  return tokenizer, t_s_word_sequences, v_s_word_sequences"
      ],
      "execution_count": 0,
      "outputs": []
    },
    {
      "cell_type": "code",
      "metadata": {
        "id": "RPTzNdm0TREF",
        "colab_type": "code",
        "colab": {}
      },
      "source": [
        "train_sent, valid_sent = convertSentencesToList(train_data, valid_data)"
      ],
      "execution_count": 0,
      "outputs": []
    },
    {
      "cell_type": "code",
      "metadata": {
        "id": "JuNmdPgKTbLe",
        "colab_type": "code",
        "outputId": "b8a392c7-c467-4e2c-8233-f1052292664c",
        "colab": {
          "base_uri": "https://localhost:8080/",
          "height": 51
        }
      },
      "source": [
        "glove_length = len(glove_embeddings)\n",
        "\n",
        "print('Found '+ str(len(train_sent)) + ' in training sentence')\n",
        "\n",
        "training_sent = train_sent\n",
        "valid_sent = valid_sent\n",
        "\n",
        "tokenizer_g, t_s_word_sequences_g, v_s_word_sequences_g = converToWordSequences(glove_length, training_sent, train_sent, valid_sent)\n",
        "word_index_g = tokenizer_g.word_index\n",
        "\n",
        "print('Found '+str(len(word_index_g))+' unique tokens for glove sequencing.')"
      ],
      "execution_count": 0,
      "outputs": [
        {
          "output_type": "stream",
          "text": [
            "Found 127122 in training sentence\n",
            "Found 29822 unique tokens for glove sequencing.\n"
          ],
          "name": "stdout"
        }
      ]
    },
    {
      "cell_type": "code",
      "metadata": {
        "id": "4B1GxZwETyxj",
        "colab_type": "code",
        "colab": {}
      },
      "source": [
        "from collections import defaultdict"
      ],
      "execution_count": 0,
      "outputs": []
    },
    {
      "cell_type": "code",
      "metadata": {
        "id": "SlAUgGggTzjx",
        "colab_type": "code",
        "colab": {}
      },
      "source": [
        "def useWordEmbeddings(word_index, NUM_WORDS, embeddings, sentence_word_sequences):\n",
        "  words_len = min(NUM_WORDS, len(word_index))\n",
        "  # word_embedding_matrix = np.zeros((words_len + 1, embedding_dim))\n",
        "  word_embedding_matrix = np.random.random((words_len + 1, embedding_dim))\n",
        "  k = 0\n",
        "  for word, i in word_index.items():\n",
        "    if i >= NUM_WORDS:\n",
        "      continue\n",
        "    embedding_vector = embeddings.get(word)\n",
        "    if embedding_vector is not None:\n",
        "      word_embedding_matrix[i] = embedding_vector\n",
        "      k += 1\n",
        "\n",
        "  return word_embedding_matrix"
      ],
      "execution_count": 0,
      "outputs": []
    },
    {
      "cell_type": "code",
      "metadata": {
        "id": "9_1aboY5Um-z",
        "colab_type": "code",
        "colab": {}
      },
      "source": [
        "word_embedding_matrix_g = useWordEmbeddings(word_index_g, glove_length, glove_embeddings, t_s_word_sequences_g)"
      ],
      "execution_count": 0,
      "outputs": []
    },
    {
      "cell_type": "code",
      "metadata": {
        "id": "gdxssUK_VAQj",
        "colab_type": "code",
        "colab": {}
      },
      "source": [
        "max_seq_length = 300"
      ],
      "execution_count": 0,
      "outputs": []
    },
    {
      "cell_type": "code",
      "metadata": {
        "id": "W59j9a5CVBh7",
        "colab_type": "code",
        "colab": {}
      },
      "source": [
        "from keras.preprocessing.sequence import pad_sequences"
      ],
      "execution_count": 0,
      "outputs": []
    },
    {
      "cell_type": "code",
      "metadata": {
        "id": "LByN8bABVFnl",
        "colab_type": "code",
        "colab": {}
      },
      "source": [
        "def convertToPadSequences(sentence_word_sequences, valid_sentence_word_sequences, max_seq_length):\n",
        "  s1_data = pad_sequences(sentence_word_sequences, maxlen = max_seq_length)\n",
        "  s1_dataValid = pad_sequences(valid_sentence_word_sequences, maxlen = max_seq_length)\n",
        "  return s1_data, s1_dataValid"
      ],
      "execution_count": 0,
      "outputs": []
    },
    {
      "cell_type": "code",
      "metadata": {
        "id": "PE6xd1LlVLRz",
        "colab_type": "code",
        "colab": {}
      },
      "source": [
        "def printSentenceInfo(s1_data, labels):\n",
        "  print('Shape of sentence1 tensor:', s1_data.shape)\n",
        "  print('Shape of label tensor:', labels.shape)"
      ],
      "execution_count": 0,
      "outputs": []
    },
    {
      "cell_type": "code",
      "metadata": {
        "id": "aPe_k-Y0VLvv",
        "colab_type": "code",
        "colab": {}
      },
      "source": [
        "s1_data_g, s1_dataValid_g = convertToPadSequences(t_s_word_sequences_g, v_s_word_sequences_g, max_seq_length)"
      ],
      "execution_count": 0,
      "outputs": []
    },
    {
      "cell_type": "code",
      "metadata": {
        "id": "-DiioFVKezVo",
        "colab_type": "code",
        "colab": {}
      },
      "source": [
        "from keras.utils import np_utils, plot_model\n",
        "from sklearn.preprocessing import LabelEncoder\n",
        "le = LabelEncoder()"
      ],
      "execution_count": 0,
      "outputs": []
    },
    {
      "cell_type": "code",
      "metadata": {
        "id": "hAPy-bzRfbGb",
        "colab_type": "code",
        "colab": {}
      },
      "source": [
        "def convertToCategorical(data):\n",
        "  labels = np_utils.to_categorical(le.fit_transform(data[\"sentiment\"].values)).astype(\"int64\")\n",
        "  return labels"
      ],
      "execution_count": 0,
      "outputs": []
    },
    {
      "cell_type": "code",
      "metadata": {
        "id": "--LiUorfVYBh",
        "colab_type": "code",
        "colab": {}
      },
      "source": [
        "train_labels = convertToCategorical(train_data)\n",
        "valid_labels = convertToCategorical(valid_data)"
      ],
      "execution_count": 0,
      "outputs": []
    },
    {
      "cell_type": "code",
      "metadata": {
        "id": "Ngw8VJvhVYtE",
        "colab_type": "code",
        "outputId": "7879f9b6-9231-4d19-dd25-da82d6f75fab",
        "colab": {
          "base_uri": "https://localhost:8080/",
          "height": 51
        }
      },
      "source": [
        "printSentenceInfo(s1_data_g, train_labels)"
      ],
      "execution_count": 0,
      "outputs": [
        {
          "output_type": "stream",
          "text": [
            "Shape of sentence1 tensor: (127122, 300)\n",
            "Shape of label tensor: (127122, 2)\n"
          ],
          "name": "stdout"
        }
      ]
    },
    {
      "cell_type": "code",
      "metadata": {
        "id": "fiEvFcqfVazo",
        "colab_type": "code",
        "colab": {}
      },
      "source": [
        "from keras.layers import LSTM, Embedding, concatenate, Dense, PReLU, Dropout, Activation, Conv1D, MaxPooling1D, Flatten, SimpleRNN, GRU\n",
        "from keras.models import Sequential\n",
        "from keras.initializers import Constant\n",
        "from keras.layers.normalization import BatchNormalization\n",
        "from keras.models import Model\n",
        "from keras.optimizers import Adam\n",
        "from keras.callbacks import ModelCheckpoint\n",
        "from IPython.display import Image\n",
        "import time\n",
        "import matplotlib.pyplot as plt"
      ],
      "execution_count": 0,
      "outputs": []
    },
    {
      "cell_type": "code",
      "metadata": {
        "id": "y3woEneNVfCZ",
        "colab_type": "code",
        "colab": {}
      },
      "source": [
        "num_rnn = np.random.randint(175, 275)\n",
        "num_dense = np.random.randint(100, 150)\n",
        "rate_drop_rnn = 0.15 + np.random.rand() * 0.25\n",
        "rate_drop_dense = 0.15 + np.random.rand() * 0.25"
      ],
      "execution_count": 0,
      "outputs": []
    },
    {
      "cell_type": "code",
      "metadata": {
        "id": "NHPGKygMgAMw",
        "colab_type": "code",
        "colab": {}
      },
      "source": [
        "batch_size = 128"
      ],
      "execution_count": 0,
      "outputs": []
    },
    {
      "cell_type": "code",
      "metadata": {
        "id": "Dz8wDqmugDM_",
        "colab_type": "code",
        "colab": {}
      },
      "source": [
        "def trainModel(model, model_name, s1_data, labels, batch_size, s1_data_valid, labels_valid):\n",
        "  checkpoint = ModelCheckpoint(outputPath+ model_name + '-checkpoint-weights.{epoch:02d}-{val_accuracy:.2f}.hdf5', monitor='val_accuracy', save_best_only=True)\n",
        "  history = model.fit([s1_data],\n",
        "                        labels,\n",
        "                        epochs = 10,\n",
        "                        batch_size = batch_size,\n",
        "                        validation_data=([s1_data_valid], labels_valid),\n",
        "                        shuffle = False,\n",
        "                        verbose = 2,\n",
        "                        callbacks = [checkpoint])\n",
        "  return history"
      ],
      "execution_count": 0,
      "outputs": []
    },
    {
      "cell_type": "code",
      "metadata": {
        "id": "1NPQ7EPkgF5Y",
        "colab_type": "code",
        "colab": {}
      },
      "source": [
        "def plotModelPicture(model, model_name):\n",
        "  plot_model(model, to_file = outputPath + model_name + '-model.png', show_shapes=False)"
      ],
      "execution_count": 0,
      "outputs": []
    },
    {
      "cell_type": "code",
      "metadata": {
        "id": "8l7bXjfqgGZ4",
        "colab_type": "code",
        "colab": {}
      },
      "source": [
        "def plotMetricsGraph(modelhistory, model_name):\n",
        "  # summarize history for accuracy\n",
        "  plt.plot(modelhistory.history['accuracy'])\n",
        "  plt.plot(modelhistory.history['val_accuracy'])\n",
        "  plt.title('model accuracy')\n",
        "  plt.ylabel('accuracy')\n",
        "  plt.xlabel('epoch')\n",
        "  plt.legend(['train', 'valid'], loc='upper left')\n",
        "  plt.show()\n",
        "  plt.savefig(model_name + '-acc.png', dpi = 300)\n",
        "\n",
        "  # summarize history for loss\n",
        "  plt.plot(modelhistory.history['loss'])\n",
        "  plt.plot(modelhistory.history['val_loss'])\n",
        "  plt.title('model loss')\n",
        "  plt.ylabel('loss')\n",
        "  plt.xlabel('epoch')\n",
        "  plt.legend(['train', 'valid'], loc='upper left')\n",
        "  plt.show()\n",
        "  plt.savefig(model_name + '-loss.png', dpi = 300)"
      ],
      "execution_count": 0,
      "outputs": []
    },
    {
      "cell_type": "code",
      "metadata": {
        "id": "zcGsRyCUEsKk",
        "colab_type": "code",
        "colab": {}
      },
      "source": [
        "def evaluateModel(model, test_s_data, test_labels):\n",
        "  loss, accuracy = model.evaluate([test_s_data], test_labels)\n",
        "  print('loss     = ', loss)\n",
        "  print('accuracy = ', accuracy)"
      ],
      "execution_count": 0,
      "outputs": []
    },
    {
      "cell_type": "code",
      "metadata": {
        "id": "nEh3hj_DCmHn",
        "colab_type": "code",
        "outputId": "bb2e7965-27e3-47a0-d140-458c8e78be0d",
        "colab": {
          "base_uri": "https://localhost:8080/",
          "height": 51
        }
      },
      "source": [
        "from sklearn.metrics import confusion_matrix\n",
        "import seaborn as sns\n",
        "import matplotlib.pyplot as plt\n",
        "\n",
        "def plotConfusionMatrix(test_y, y_pred):\n",
        "  #y_pred=model.predict(test_x,batch_size=15)\n",
        "  #cm =confusion_matrix(test_y.argmax(axis=1), y_pred.argmax(axis=1))\n",
        "  cm =confusion_matrix(test_y, y_pred)\n",
        "  print(cm)\n",
        "  index = ['Negative','Positive']\n",
        "  columns = ['Negative','Positive']\n",
        "  cm_df = pd.DataFrame(cm,columns,index)             \n",
        "  plt.figure(figsize=(10,6))\n",
        "  sns.heatmap(cm_df, annot=True)\n"
      ],
      "execution_count": 0,
      "outputs": [
        {
          "output_type": "stream",
          "text": [
            "/usr/local/lib/python3.6/dist-packages/statsmodels/tools/_testing.py:19: FutureWarning: pandas.util.testing is deprecated. Use the functions in the public API at pandas.testing instead.\n",
            "  import pandas.util.testing as tm\n"
          ],
          "name": "stderr"
        }
      ]
    },
    {
      "cell_type": "code",
      "metadata": {
        "id": "LyzwKC5d-EiN",
        "colab_type": "code",
        "colab": {}
      },
      "source": [
        "def CNNGRUModel(word_index, EMBEDDING_DIM, embedding_matrix, MAX_SEQUENCE_LENGTH, p_drop=0.0):\n",
        "  encoder_1 = Sequential()\n",
        "  encoder_1.add(Embedding(len(word_index) + 1, EMBEDDING_DIM,\n",
        "                                    embeddings_initializer=Constant(embedding_matrix),\n",
        "                                    input_length=MAX_SEQUENCE_LENGTH,\n",
        "                                    trainable=False))\n",
        "\n",
        "  encoder_1.add(Conv1D(128, kernel_size = 2, padding = \"same\"))\n",
        "  encoder_1.add(MaxPooling1D(pool_size=2, padding=\"same\"))\n",
        "  encoder_1.add(Conv1D(64, kernel_size = 2, padding = \"same\"))\n",
        "  encoder_1.add(MaxPooling1D(pool_size=2, padding='same'))\n",
        "  encoder_1.add(Conv1D(64, kernel_size = 2, padding = \"same\"))\n",
        "  encoder_1.add(MaxPooling1D(pool_size=2, padding='same'))\n",
        "  encoder_1.add(Conv1D(32, kernel_size = 2, padding = \"same\"))\n",
        "  encoder_1.add(MaxPooling1D(pool_size=2, padding='same'))\n",
        "  encoder_1.add(Conv1D(32, kernel_size = 2, padding = \"same\"))\n",
        "  encoder_1.add(MaxPooling1D(pool_size=2, padding='same'))\n",
        "  encoder_1.add(Conv1D(16, kernel_size = 2, padding = \"same\"))\n",
        "  encoder_1.add(MaxPooling1D(pool_size=2, padding='same'))\n",
        "  encoder_1.add(Conv1D(16, kernel_size = 2, padding = \"same\"))\n",
        "  encoder_1.add(MaxPooling1D(pool_size=2, padding='same'))\n",
        "  encoder_1.add(Conv1D(8, kernel_size = 2, padding = \"same\"))\n",
        "  encoder_1.add(MaxPooling1D(pool_size=2, padding='same'))\n",
        "  encoder_1.add(Conv1D(8, kernel_size = 2, padding = \"same\"))\n",
        "  encoder_1.add(MaxPooling1D(pool_size=2, padding='same'))\n",
        "  encoder_1.add(GRU(128,return_sequences=True))\n",
        "  encoder_1.add(Dropout(0.3))\n",
        "  encoder_1.add(Flatten())\n",
        "  encoder_1.add(Dense(128,activation='relu'))\n",
        "  encoder_1.add(Dropout(0.5))\n",
        "  encoder_1.add(Dense(2, activation=\"sigmoid\", name=\"final_output\"))\n",
        "\n",
        "  encoder_1.compile(loss = 'categorical_crossentropy', optimizer=Adam(lr=0.001), metrics = ['accuracy'])\n",
        "    \n",
        "  return encoder_1"
      ],
      "execution_count": 0,
      "outputs": []
    },
    {
      "cell_type": "code",
      "metadata": {
        "id": "8sb0LRoohEH4",
        "colab_type": "code",
        "outputId": "6050cd54-ce6c-4f08-86b5-3f4046ccb761",
        "colab": {
          "base_uri": "https://localhost:8080/",
          "height": 1000
        }
      },
      "source": [
        "model_cnn_gru_g = CNNGRUModel(word_index_g, embedding_dim, word_embedding_matrix_g, max_seq_length, p_drop=0.25)\n",
        "model_cnn_gru_g.summary()"
      ],
      "execution_count": 0,
      "outputs": [
        {
          "output_type": "stream",
          "text": [
            "Model: \"sequential_3\"\n",
            "_________________________________________________________________\n",
            "Layer (type)                 Output Shape              Param #   \n",
            "=================================================================\n",
            "embedding_3 (Embedding)      (None, 300, 300)          8946900   \n",
            "_________________________________________________________________\n",
            "conv1d_19 (Conv1D)           (None, 300, 128)          76928     \n",
            "_________________________________________________________________\n",
            "max_pooling1d_19 (MaxPooling (None, 150, 128)          0         \n",
            "_________________________________________________________________\n",
            "conv1d_20 (Conv1D)           (None, 150, 64)           16448     \n",
            "_________________________________________________________________\n",
            "max_pooling1d_20 (MaxPooling (None, 75, 64)            0         \n",
            "_________________________________________________________________\n",
            "conv1d_21 (Conv1D)           (None, 75, 64)            8256      \n",
            "_________________________________________________________________\n",
            "max_pooling1d_21 (MaxPooling (None, 38, 64)            0         \n",
            "_________________________________________________________________\n",
            "conv1d_22 (Conv1D)           (None, 38, 32)            4128      \n",
            "_________________________________________________________________\n",
            "max_pooling1d_22 (MaxPooling (None, 19, 32)            0         \n",
            "_________________________________________________________________\n",
            "conv1d_23 (Conv1D)           (None, 19, 32)            2080      \n",
            "_________________________________________________________________\n",
            "max_pooling1d_23 (MaxPooling (None, 10, 32)            0         \n",
            "_________________________________________________________________\n",
            "conv1d_24 (Conv1D)           (None, 10, 16)            1040      \n",
            "_________________________________________________________________\n",
            "max_pooling1d_24 (MaxPooling (None, 5, 16)             0         \n",
            "_________________________________________________________________\n",
            "conv1d_25 (Conv1D)           (None, 5, 16)             528       \n",
            "_________________________________________________________________\n",
            "max_pooling1d_25 (MaxPooling (None, 3, 16)             0         \n",
            "_________________________________________________________________\n",
            "conv1d_26 (Conv1D)           (None, 3, 8)              264       \n",
            "_________________________________________________________________\n",
            "max_pooling1d_26 (MaxPooling (None, 2, 8)              0         \n",
            "_________________________________________________________________\n",
            "conv1d_27 (Conv1D)           (None, 2, 8)              136       \n",
            "_________________________________________________________________\n",
            "max_pooling1d_27 (MaxPooling (None, 1, 8)              0         \n",
            "_________________________________________________________________\n",
            "gru_2 (GRU)                  (None, 1, 128)            52608     \n",
            "_________________________________________________________________\n",
            "dropout_3 (Dropout)          (None, 1, 128)            0         \n",
            "_________________________________________________________________\n",
            "flatten_2 (Flatten)          (None, 128)               0         \n",
            "_________________________________________________________________\n",
            "dense_2 (Dense)              (None, 128)               16512     \n",
            "_________________________________________________________________\n",
            "dropout_4 (Dropout)          (None, 128)               0         \n",
            "_________________________________________________________________\n",
            "final_output (Dense)         (None, 2)                 258       \n",
            "=================================================================\n",
            "Total params: 9,126,086\n",
            "Trainable params: 179,186\n",
            "Non-trainable params: 8,946,900\n",
            "_________________________________________________________________\n"
          ],
          "name": "stdout"
        }
      ]
    },
    {
      "cell_type": "code",
      "metadata": {
        "id": "YPa-pu43hohU",
        "colab_type": "code",
        "outputId": "125b811e-f916-487b-8dd6-7e08df46dcc3",
        "colab": {
          "base_uri": "https://localhost:8080/",
          "height": 1000
        }
      },
      "source": [
        "model_name = 'CNN_GRU_Glove'\n",
        "plotModelPicture(model_cnn_gru_g, model_name)\n",
        "Image(filename = outputPath + model_name + '-model.png')"
      ],
      "execution_count": 0,
      "outputs": [
        {
          "output_type": "execute_result",
          "data": {
            "image/png": "[encoded data removed]",
            "text/plain": [
              "<IPython.core.display.Image object>"
            ]
          },
          "metadata": {
            "tags": []
          },
          "execution_count": 43
        }
      ]
    },
    {
      "cell_type": "code",
      "metadata": {
        "id": "VeIxQDj68L5Z",
        "colab_type": "code",
        "outputId": "3c7bbbd9-2a80-41cf-8437-3cd9f238727a",
        "colab": {
          "base_uri": "https://localhost:8080/",
          "height": 377
        }
      },
      "source": [
        "history_cnn_gru_g = trainModel(model_cnn_gru_g, model_name, s1_data_g, train_labels, batch_size, s1_dataValid_g, valid_labels)"
      ],
      "execution_count": 0,
      "outputs": [
        {
          "output_type": "stream",
          "text": [
            "Train on 127122 samples, validate on 31607 samples\n",
            "Epoch 1/10\n",
            " - 363s - loss: 0.4719 - accuracy: 0.7787 - val_loss: 0.4066 - val_accuracy: 0.8186\n",
            "Epoch 2/10\n",
            " - 355s - loss: 0.3824 - accuracy: 0.8331 - val_loss: 0.3838 - val_accuracy: 0.8319\n",
            "Epoch 3/10\n",
            " - 349s - loss: 0.3350 - accuracy: 0.8587 - val_loss: 0.3738 - val_accuracy: 0.8400\n",
            "Epoch 4/10\n",
            " - 346s - loss: 0.2954 - accuracy: 0.8795 - val_loss: 0.3768 - val_accuracy: 0.8430\n",
            "Epoch 5/10\n",
            " - 352s - loss: 0.2617 - accuracy: 0.8961 - val_loss: 0.3825 - val_accuracy: 0.8489\n",
            "Epoch 6/10\n",
            " - 350s - loss: 0.2345 - accuracy: 0.9085 - val_loss: 0.4566 - val_accuracy: 0.8394\n",
            "Epoch 7/10\n",
            " - 353s - loss: 0.2103 - accuracy: 0.9195 - val_loss: 0.5091 - val_accuracy: 0.8318\n",
            "Epoch 8/10\n",
            " - 356s - loss: 0.1918 - accuracy: 0.9278 - val_loss: 0.4154 - val_accuracy: 0.8544\n",
            "Epoch 9/10\n",
            " - 350s - loss: 0.1782 - accuracy: 0.9331 - val_loss: 0.4022 - val_accuracy: 0.8606\n",
            "Epoch 10/10\n",
            " - 343s - loss: 0.1589 - accuracy: 0.9408 - val_loss: 0.4276 - val_accuracy: 0.8613\n"
          ],
          "name": "stdout"
        }
      ]
    },
    {
      "cell_type": "code",
      "metadata": {
        "id": "IYhyWc2w-IEC",
        "colab_type": "code",
        "outputId": "dd77e547-c6c2-4d68-b198-a8cff41a223c",
        "colab": {
          "base_uri": "https://localhost:8080/",
          "height": 590
        }
      },
      "source": [
        "plotMetricsGraph(history_cnn_gru_g, model_name)"
      ],
      "execution_count": 0,
      "outputs": [
        {
          "output_type": "display_data",
          "data": {
            "image/png": "[encoded data removed]",
            "text/plain": [
              "<Figure size 432x288 with 1 Axes>"
            ]
          },
          "metadata": {
            "tags": [],
            "needs_background": "light"
          }
        },
        {
          "output_type": "display_data",
          "data": {
            "image/png": "[encoded data removed]",
            "text/plain": [
              "<Figure size 432x288 with 1 Axes>"
            ]
          },
          "metadata": {
            "tags": [],
            "needs_background": "light"
          }
        },
        {
          "output_type": "display_data",
          "data": {
            "text/plain": [
              "<Figure size 432x288 with 0 Axes>"
            ]
          },
          "metadata": {
            "tags": []
          }
        }
      ]
    },
    {
      "cell_type": "code",
      "metadata": {
        "id": "hGn7R8iKDspw",
        "colab_type": "code",
        "colab": {}
      },
      "source": [
        "def getTestDataSequences(tokenizer):\n",
        "  test_s_word_sequences = tokenizer.texts_to_sequences(test_data['clean_review'].values.tolist())\n",
        "\n",
        "  test_s_data = pad_sequences(test_s_word_sequences, maxlen = max_seq_length)\n",
        "  test_labels = np_utils.to_categorical(le.fit_transform(test_data[\"sentiment\"].values)).astype(\"int64\")\n",
        "\n",
        "  print('Shape of test sentence1 tensor:', test_s_data.shape)\n",
        "  print('Shape of test label tensor:', test_labels.shape)\n",
        "  return test_s_data, test_labels"
      ],
      "execution_count": 0,
      "outputs": []
    },
    {
      "cell_type": "code",
      "metadata": {
        "id": "_EBxNREdv9KK",
        "colab_type": "code",
        "outputId": "13b62dd2-e67d-4913-de14-be9ecd6daf7e",
        "colab": {
          "base_uri": "https://localhost:8080/",
          "height": 51
        }
      },
      "source": [
        "test_s_data_g, test_labels_g = getTestDataSequences(tokenizer_g)"
      ],
      "execution_count": 0,
      "outputs": [
        {
          "output_type": "stream",
          "text": [
            "Shape of test sentence1 tensor: (52856, 300)\n",
            "Shape of test label tensor: (52856, 2)\n"
          ],
          "name": "stdout"
        }
      ]
    },
    {
      "cell_type": "code",
      "metadata": {
        "id": "aMuAHTZ_v_b3",
        "colab_type": "code",
        "outputId": "c37b9a3e-9590-4cf1-949a-e3e335d834a1",
        "colab": {
          "base_uri": "https://localhost:8080/",
          "height": 68
        }
      },
      "source": [
        "evaluateModel(model_cnn_gru_g, test_s_data_g, test_labels_g)"
      ],
      "execution_count": 0,
      "outputs": [
        {
          "output_type": "stream",
          "text": [
            "52856/52856 [==============================] - 54s 1ms/step\n",
            "loss     =  0.4372151943536277\n",
            "accuracy =  0.8656402277946472\n"
          ],
          "name": "stdout"
        }
      ]
    },
    {
      "cell_type": "code",
      "metadata": {
        "id": "BbO6otG7wCqy",
        "colab_type": "code",
        "colab": {}
      },
      "source": [
        "model = model_cnn_gru_g"
      ],
      "execution_count": 0,
      "outputs": []
    },
    {
      "cell_type": "code",
      "metadata": {
        "id": "1Id-vzpwwFeQ",
        "colab_type": "code",
        "colab": {}
      },
      "source": [
        "test_pred = model.predict([test_s_data_g], batch_size=32)"
      ],
      "execution_count": 0,
      "outputs": []
    },
    {
      "cell_type": "code",
      "metadata": {
        "id": "OfDcf-f0wH6S",
        "colab_type": "code",
        "colab": {}
      },
      "source": [
        "output = list()\n",
        "output_score = list()\n",
        "for x in test_pred:\n",
        "  #print(type(x))\n",
        "  output_score.append(np.amax(x))\n",
        "  output.append(np.argmax(x))\n",
        "\n",
        "test_data[\"Actual Output\"] = output\n",
        "test_data[\"Predicted Score\"] = output_score\n",
        "\n",
        "test_data.to_excel(outputPath+'output_cnn_gru_glove.xlsx')"
      ],
      "execution_count": 0,
      "outputs": []
    },
    {
      "cell_type": "code",
      "metadata": {
        "id": "0B_0DmjxwOvO",
        "colab_type": "code",
        "outputId": "6def8c75-586a-4cf8-eb96-864081c2a53a",
        "colab": {
          "base_uri": "https://localhost:8080/",
          "height": 171
        }
      },
      "source": [
        "from sklearn.metrics import classification_report\n",
        "\n",
        "predicted = np.argmax(test_pred, axis=1)\n",
        "report = classification_report(test_data[\"sentiment\"], test_data[\"Actual Output\"])\n",
        "print(report)"
      ],
      "execution_count": 0,
      "outputs": [
        {
          "output_type": "stream",
          "text": [
            "              precision    recall  f1-score   support\n",
            "\n",
            "           0       0.77      0.77      0.77     15962\n",
            "           1       0.90      0.90      0.90     36894\n",
            "\n",
            "    accuracy                           0.87     52856\n",
            "   macro avg       0.83      0.83      0.83     52856\n",
            "weighted avg       0.86      0.86      0.86     52856\n",
            "\n"
          ],
          "name": "stdout"
        }
      ]
    },
    {
      "cell_type": "code",
      "metadata": {
        "id": "LrfJo7KWwQ1w",
        "colab_type": "code",
        "outputId": "a9195c76-2f40-4c20-f3b8-d0eabdef3e8e",
        "colab": {
          "base_uri": "https://localhost:8080/",
          "height": 408
        }
      },
      "source": [
        "plotConfusionMatrix(test_data[\"sentiment\"], test_data[\"Actual Output\"])"
      ],
      "execution_count": 0,
      "outputs": [
        {
          "output_type": "stream",
          "text": [
            "[[12278  3684]\n",
            " [ 3682 33212]]\n"
          ],
          "name": "stdout"
        },
        {
          "output_type": "display_data",
          "data": {
            "image/png": "[encoded data removed]",
            "text/plain": [
              "<Figure size 720x432 with 2 Axes>"
            ]
          },
          "metadata": {
            "tags": [],
            "needs_background": "light"
          }
        }
      ]
    }
  ]
}
