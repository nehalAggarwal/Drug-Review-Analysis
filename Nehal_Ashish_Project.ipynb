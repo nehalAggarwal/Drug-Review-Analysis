{
  "nbformat": 4,
  "nbformat_minor": 0,
  "metadata": {
    "colab": {
      "name": "Nehal_Ashish_Project.ipynb",
      "provenance": [],
      "collapsed_sections": []
    },
    "kernelspec": {
      "name": "python3",
      "display_name": "Python 3"
    },
    "accelerator": "TPU"
  },
  "cells": [
    {
      "cell_type": "markdown",
      "metadata": {
        "id": "862sSN5h8iIt",
        "colab_type": "text"
      },
      "source": [
        "# Natural Language Processing | Project\n",
        "\n",
        "### Nehal Aggarwal \n",
        "\n",
        "### Ashish Verma \n",
        "\n"
      ]
    },
    {
      "cell_type": "markdown",
      "metadata": {
        "id": "fxa477yo8oys",
        "colab_type": "text"
      },
      "source": [
        "### Mounting Google Drive"
      ]
    },
    {
      "cell_type": "code",
      "metadata": {
        "id": "ZhMvUj2E8qjC",
        "colab_type": "code",
        "colab": {}
      },
      "source": [
        "# Load the Drive helper and mount\n",
        "from google.colab import drive"
      ],
      "execution_count": 0,
      "outputs": []
    },
    {
      "cell_type": "code",
      "metadata": {
        "id": "_LL63ffr8uBo",
        "colab_type": "code",
        "outputId": "f53789ba-553f-4b21-cad1-e01258e5066e",
        "colab": {
          "base_uri": "https://localhost:8080/",
          "height": 118
        }
      },
      "source": [
        "drive.mount('/content/drive')"
      ],
      "execution_count": 0,
      "outputs": [
        {
          "output_type": "stream",
          "text": [
            "Go to this URL in a browser: https://accounts.google.com/o/oauth2/auth?client_id=947318989803-6bn6qk8qdgf4n4g3pfee6491hc0brc4i.apps.googleusercontent.com&redirect_uri=urn%3aietf%3awg%3aoauth%3a2.0%3aoob&response_type=code&scope=email%20https%3a%2f%2fwww.googleapis.com%2fauth%2fdocs.test%20https%3a%2f%2fwww.googleapis.com%2fauth%2fdrive%20https%3a%2f%2fwww.googleapis.com%2fauth%2fdrive.photos.readonly%20https%3a%2f%2fwww.googleapis.com%2fauth%2fpeopleapi.readonly\n",
            "\n",
            "Enter your authorization code:\n",
            "··········\n",
            "Mounted at /content/drive\n"
          ],
          "name": "stdout"
        }
      ]
    },
    {
      "cell_type": "code",
      "metadata": {
        "id": "ywNlYCHp8wrS",
        "colab_type": "code",
        "outputId": "1d90238f-fc26-488b-b481-cfd5717a718d",
        "colab": {
          "base_uri": "https://localhost:8080/",
          "height": 50
        }
      },
      "source": [
        "!pwd\n",
        "%cd /content/drive/My Drive/Term5/NLP/Project \n"
      ],
      "execution_count": 0,
      "outputs": [
        {
          "output_type": "stream",
          "text": [
            "/content\n",
            "/content/drive/My Drive/Term5/NLP/Project\n"
          ],
          "name": "stdout"
        }
      ]
    },
    {
      "cell_type": "markdown",
      "metadata": {
        "id": "lZ7CiZ3s867E",
        "colab_type": "text"
      },
      "source": [
        "#### Loading all required  paths"
      ]
    },
    {
      "cell_type": "code",
      "metadata": {
        "id": "tSFwr-yN87ow",
        "colab_type": "code",
        "colab": {}
      },
      "source": [
        "dataPath = '/content/drive/My Drive/Term5/NLP/Project/Dataset'\n",
        "outputPath = '/content/drive/My Drive/Term5/NLP/Project/Output'\n",
        "drug_train = dataPath + '/drugsComTrain_raw.tsv'\n",
        "drug_test = dataPath + '/drugsComTest_raw.tsv'\n",
        "glove_vectors_file = dataPath + '/word_embeddings/glove.840B.300d.txt'"
      ],
      "execution_count": 0,
      "outputs": []
    },
    {
      "cell_type": "markdown",
      "metadata": {
        "id": "xRnlzJYK9oxH",
        "colab_type": "text"
      },
      "source": [
        "### Loading Dataset and Pre-processing"
      ]
    },
    {
      "cell_type": "markdown",
      "metadata": {
        "id": "pcdOF_WV9tZ3",
        "colab_type": "text"
      },
      "source": [
        "#### Helper Methods"
      ]
    },
    {
      "cell_type": "code",
      "metadata": {
        "id": "TZ6jKAzj9xbo",
        "colab_type": "code",
        "colab": {}
      },
      "source": [
        "import pandas as pd"
      ],
      "execution_count": 0,
      "outputs": []
    },
    {
      "cell_type": "code",
      "metadata": {
        "id": "bEMJvOno92c1",
        "colab_type": "code",
        "colab": {}
      },
      "source": [
        "def readFile(fileName):\n",
        "  filedata = pd.read_csv(fileName, delimiter='\\t', header = None, skiprows=1)\n",
        "  filedata.columns = [\"id\", \"drugName\", \"condition\", \"review\", \"rating\", \"date\", \"usefulCount\"]\n",
        "  return filedata"
      ],
      "execution_count": 0,
      "outputs": []
    },
    {
      "cell_type": "code",
      "metadata": {
        "id": "qzdIWXVBAPmB",
        "colab_type": "code",
        "colab": {}
      },
      "source": [
        "def saveDataToCSV(df, file_name):\n",
        "  df.to_csv(dataPath +'/'+file_name, sep='\\t', encoding='utf-8', index=False)\n",
        "  print(file_name+'...saved to csv')"
      ],
      "execution_count": 0,
      "outputs": []
    },
    {
      "cell_type": "markdown",
      "metadata": {
        "id": "ne--vasP9oBv",
        "colab_type": "text"
      },
      "source": [
        "#### Loading embeddings"
      ]
    },
    {
      "cell_type": "code",
      "metadata": {
        "id": "II6DFn_SFo3Y",
        "colab_type": "code",
        "colab": {}
      },
      "source": [
        ""
      ],
      "execution_count": 0,
      "outputs": []
    },
    {
      "cell_type": "markdown",
      "metadata": {
        "id": "vH16co_9-PiM",
        "colab_type": "text"
      },
      "source": [
        "#### Dataset | Creating validation Set | To be run only once"
      ]
    },
    {
      "cell_type": "code",
      "metadata": {
        "id": "G2ZTekov-Qng",
        "colab_type": "code",
        "outputId": "99c3e07b-779c-401c-d40f-a07fdd7931ae",
        "colab": {
          "base_uri": "https://localhost:8080/",
          "height": 507
        }
      },
      "source": [
        "train_data_raw = readFile(drug_train)\n",
        "test_data_raw = readFile(drug_test)"
      ],
      "execution_count": 0,
      "outputs": [
        {
          "output_type": "error",
          "ename": "KeyboardInterrupt",
          "evalue": "ignored",
          "traceback": [
            "\u001b[0;31m---------------------------------------------------------------------------\u001b[0m",
            "\u001b[0;31mKeyboardInterrupt\u001b[0m                         Traceback (most recent call last)",
            "\u001b[0;32m<ipython-input-38-c5d7af55dd88>\u001b[0m in \u001b[0;36m<module>\u001b[0;34m()\u001b[0m\n\u001b[0;32m----> 1\u001b[0;31m \u001b[0mtrain_data_raw\u001b[0m \u001b[0;34m=\u001b[0m \u001b[0mreadFile\u001b[0m\u001b[0;34m(\u001b[0m\u001b[0mdrug_train\u001b[0m\u001b[0;34m)\u001b[0m\u001b[0;34m\u001b[0m\u001b[0;34m\u001b[0m\u001b[0m\n\u001b[0m\u001b[1;32m      2\u001b[0m \u001b[0mtest_data_raw\u001b[0m \u001b[0;34m=\u001b[0m \u001b[0mreadFile\u001b[0m\u001b[0;34m(\u001b[0m\u001b[0mdrug_test\u001b[0m\u001b[0;34m)\u001b[0m\u001b[0;34m\u001b[0m\u001b[0;34m\u001b[0m\u001b[0m\n",
            "\u001b[0;32m<ipython-input-36-a2c1c63b7abe>\u001b[0m in \u001b[0;36mreadFile\u001b[0;34m(fileName)\u001b[0m\n\u001b[1;32m      1\u001b[0m \u001b[0;32mdef\u001b[0m \u001b[0mreadFile\u001b[0m\u001b[0;34m(\u001b[0m\u001b[0mfileName\u001b[0m\u001b[0;34m)\u001b[0m\u001b[0;34m:\u001b[0m\u001b[0;34m\u001b[0m\u001b[0;34m\u001b[0m\u001b[0m\n\u001b[0;32m----> 2\u001b[0;31m   \u001b[0mfiledata\u001b[0m \u001b[0;34m=\u001b[0m \u001b[0mpd\u001b[0m\u001b[0;34m.\u001b[0m\u001b[0mread_csv\u001b[0m\u001b[0;34m(\u001b[0m\u001b[0mfileName\u001b[0m\u001b[0;34m,\u001b[0m \u001b[0mdelimiter\u001b[0m\u001b[0;34m=\u001b[0m\u001b[0;34m'\\t'\u001b[0m\u001b[0;34m,\u001b[0m \u001b[0mheader\u001b[0m \u001b[0;34m=\u001b[0m \u001b[0;32mNone\u001b[0m\u001b[0;34m,\u001b[0m \u001b[0mskiprows\u001b[0m\u001b[0;34m=\u001b[0m\u001b[0;36m1\u001b[0m\u001b[0;34m)\u001b[0m\u001b[0;34m\u001b[0m\u001b[0;34m\u001b[0m\u001b[0m\n\u001b[0m\u001b[1;32m      3\u001b[0m   \u001b[0mfiledata\u001b[0m\u001b[0;34m.\u001b[0m\u001b[0mcolumns\u001b[0m \u001b[0;34m=\u001b[0m \u001b[0;34m[\u001b[0m\u001b[0;34m\"id\"\u001b[0m\u001b[0;34m,\u001b[0m \u001b[0;34m\"drugName\"\u001b[0m\u001b[0;34m,\u001b[0m \u001b[0;34m\"condition\"\u001b[0m\u001b[0;34m,\u001b[0m \u001b[0;34m\"review\"\u001b[0m\u001b[0;34m,\u001b[0m \u001b[0;34m\"rating\"\u001b[0m\u001b[0;34m,\u001b[0m \u001b[0;34m\"date\"\u001b[0m\u001b[0;34m,\u001b[0m \u001b[0;34m\"usefulCount\"\u001b[0m\u001b[0;34m]\u001b[0m\u001b[0;34m\u001b[0m\u001b[0;34m\u001b[0m\u001b[0m\n\u001b[1;32m      4\u001b[0m   \u001b[0;32mreturn\u001b[0m \u001b[0mfiledata\u001b[0m\u001b[0;34m\u001b[0m\u001b[0;34m\u001b[0m\u001b[0m\n",
            "\u001b[0;32m/usr/local/lib/python3.6/dist-packages/pandas/io/parsers.py\u001b[0m in \u001b[0;36mparser_f\u001b[0;34m(filepath_or_buffer, sep, delimiter, header, names, index_col, usecols, squeeze, prefix, mangle_dupe_cols, dtype, engine, converters, true_values, false_values, skipinitialspace, skiprows, skipfooter, nrows, na_values, keep_default_na, na_filter, verbose, skip_blank_lines, parse_dates, infer_datetime_format, keep_date_col, date_parser, dayfirst, cache_dates, iterator, chunksize, compression, thousands, decimal, lineterminator, quotechar, quoting, doublequote, escapechar, comment, encoding, dialect, error_bad_lines, warn_bad_lines, delim_whitespace, low_memory, memory_map, float_precision)\u001b[0m\n\u001b[1;32m    674\u001b[0m         )\n\u001b[1;32m    675\u001b[0m \u001b[0;34m\u001b[0m\u001b[0m\n\u001b[0;32m--> 676\u001b[0;31m         \u001b[0;32mreturn\u001b[0m \u001b[0m_read\u001b[0m\u001b[0;34m(\u001b[0m\u001b[0mfilepath_or_buffer\u001b[0m\u001b[0;34m,\u001b[0m \u001b[0mkwds\u001b[0m\u001b[0;34m)\u001b[0m\u001b[0;34m\u001b[0m\u001b[0;34m\u001b[0m\u001b[0m\n\u001b[0m\u001b[1;32m    677\u001b[0m \u001b[0;34m\u001b[0m\u001b[0m\n\u001b[1;32m    678\u001b[0m     \u001b[0mparser_f\u001b[0m\u001b[0;34m.\u001b[0m\u001b[0m__name__\u001b[0m \u001b[0;34m=\u001b[0m \u001b[0mname\u001b[0m\u001b[0;34m\u001b[0m\u001b[0;34m\u001b[0m\u001b[0m\n",
            "\u001b[0;32m/usr/local/lib/python3.6/dist-packages/pandas/io/parsers.py\u001b[0m in \u001b[0;36m_read\u001b[0;34m(filepath_or_buffer, kwds)\u001b[0m\n\u001b[1;32m    452\u001b[0m \u001b[0;34m\u001b[0m\u001b[0m\n\u001b[1;32m    453\u001b[0m     \u001b[0;32mtry\u001b[0m\u001b[0;34m:\u001b[0m\u001b[0;34m\u001b[0m\u001b[0;34m\u001b[0m\u001b[0m\n\u001b[0;32m--> 454\u001b[0;31m         \u001b[0mdata\u001b[0m \u001b[0;34m=\u001b[0m \u001b[0mparser\u001b[0m\u001b[0;34m.\u001b[0m\u001b[0mread\u001b[0m\u001b[0;34m(\u001b[0m\u001b[0mnrows\u001b[0m\u001b[0;34m)\u001b[0m\u001b[0;34m\u001b[0m\u001b[0;34m\u001b[0m\u001b[0m\n\u001b[0m\u001b[1;32m    455\u001b[0m     \u001b[0;32mfinally\u001b[0m\u001b[0;34m:\u001b[0m\u001b[0;34m\u001b[0m\u001b[0;34m\u001b[0m\u001b[0m\n\u001b[1;32m    456\u001b[0m         \u001b[0mparser\u001b[0m\u001b[0;34m.\u001b[0m\u001b[0mclose\u001b[0m\u001b[0;34m(\u001b[0m\u001b[0;34m)\u001b[0m\u001b[0;34m\u001b[0m\u001b[0;34m\u001b[0m\u001b[0m\n",
            "\u001b[0;32m/usr/local/lib/python3.6/dist-packages/pandas/io/parsers.py\u001b[0m in \u001b[0;36mread\u001b[0;34m(self, nrows)\u001b[0m\n\u001b[1;32m   1131\u001b[0m     \u001b[0;32mdef\u001b[0m \u001b[0mread\u001b[0m\u001b[0;34m(\u001b[0m\u001b[0mself\u001b[0m\u001b[0;34m,\u001b[0m \u001b[0mnrows\u001b[0m\u001b[0;34m=\u001b[0m\u001b[0;32mNone\u001b[0m\u001b[0;34m)\u001b[0m\u001b[0;34m:\u001b[0m\u001b[0;34m\u001b[0m\u001b[0;34m\u001b[0m\u001b[0m\n\u001b[1;32m   1132\u001b[0m         \u001b[0mnrows\u001b[0m \u001b[0;34m=\u001b[0m \u001b[0m_validate_integer\u001b[0m\u001b[0;34m(\u001b[0m\u001b[0;34m\"nrows\"\u001b[0m\u001b[0;34m,\u001b[0m \u001b[0mnrows\u001b[0m\u001b[0;34m)\u001b[0m\u001b[0;34m\u001b[0m\u001b[0;34m\u001b[0m\u001b[0m\n\u001b[0;32m-> 1133\u001b[0;31m         \u001b[0mret\u001b[0m \u001b[0;34m=\u001b[0m \u001b[0mself\u001b[0m\u001b[0;34m.\u001b[0m\u001b[0m_engine\u001b[0m\u001b[0;34m.\u001b[0m\u001b[0mread\u001b[0m\u001b[0;34m(\u001b[0m\u001b[0mnrows\u001b[0m\u001b[0;34m)\u001b[0m\u001b[0;34m\u001b[0m\u001b[0;34m\u001b[0m\u001b[0m\n\u001b[0m\u001b[1;32m   1134\u001b[0m \u001b[0;34m\u001b[0m\u001b[0m\n\u001b[1;32m   1135\u001b[0m         \u001b[0;31m# May alter columns / col_dict\u001b[0m\u001b[0;34m\u001b[0m\u001b[0;34m\u001b[0m\u001b[0;34m\u001b[0m\u001b[0m\n",
            "\u001b[0;32m/usr/local/lib/python3.6/dist-packages/pandas/io/parsers.py\u001b[0m in \u001b[0;36mread\u001b[0;34m(self, nrows)\u001b[0m\n\u001b[1;32m   2035\u001b[0m     \u001b[0;32mdef\u001b[0m \u001b[0mread\u001b[0m\u001b[0;34m(\u001b[0m\u001b[0mself\u001b[0m\u001b[0;34m,\u001b[0m \u001b[0mnrows\u001b[0m\u001b[0;34m=\u001b[0m\u001b[0;32mNone\u001b[0m\u001b[0;34m)\u001b[0m\u001b[0;34m:\u001b[0m\u001b[0;34m\u001b[0m\u001b[0;34m\u001b[0m\u001b[0m\n\u001b[1;32m   2036\u001b[0m         \u001b[0;32mtry\u001b[0m\u001b[0;34m:\u001b[0m\u001b[0;34m\u001b[0m\u001b[0;34m\u001b[0m\u001b[0m\n\u001b[0;32m-> 2037\u001b[0;31m             \u001b[0mdata\u001b[0m \u001b[0;34m=\u001b[0m \u001b[0mself\u001b[0m\u001b[0;34m.\u001b[0m\u001b[0m_reader\u001b[0m\u001b[0;34m.\u001b[0m\u001b[0mread\u001b[0m\u001b[0;34m(\u001b[0m\u001b[0mnrows\u001b[0m\u001b[0;34m)\u001b[0m\u001b[0;34m\u001b[0m\u001b[0;34m\u001b[0m\u001b[0m\n\u001b[0m\u001b[1;32m   2038\u001b[0m         \u001b[0;32mexcept\u001b[0m \u001b[0mStopIteration\u001b[0m\u001b[0;34m:\u001b[0m\u001b[0;34m\u001b[0m\u001b[0;34m\u001b[0m\u001b[0m\n\u001b[1;32m   2039\u001b[0m             \u001b[0;32mif\u001b[0m \u001b[0mself\u001b[0m\u001b[0;34m.\u001b[0m\u001b[0m_first_chunk\u001b[0m\u001b[0;34m:\u001b[0m\u001b[0;34m\u001b[0m\u001b[0;34m\u001b[0m\u001b[0m\n",
            "\u001b[0;32mpandas/_libs/parsers.pyx\u001b[0m in \u001b[0;36mpandas._libs.parsers.TextReader.read\u001b[0;34m()\u001b[0m\n",
            "\u001b[0;32mpandas/_libs/parsers.pyx\u001b[0m in \u001b[0;36mpandas._libs.parsers.TextReader._read_low_memory\u001b[0;34m()\u001b[0m\n",
            "\u001b[0;32mpandas/_libs/parsers.pyx\u001b[0m in \u001b[0;36mpandas._libs.parsers.TextReader._read_rows\u001b[0;34m()\u001b[0m\n",
            "\u001b[0;32mpandas/_libs/parsers.pyx\u001b[0m in \u001b[0;36mpandas._libs.parsers.TextReader._convert_column_data\u001b[0;34m()\u001b[0m\n",
            "\u001b[0;32mpandas/_libs/parsers.pyx\u001b[0m in \u001b[0;36mpandas._libs.parsers.TextReader._convert_tokens\u001b[0;34m()\u001b[0m\n",
            "\u001b[0;32mpandas/_libs/parsers.pyx\u001b[0m in \u001b[0;36mpandas._libs.parsers.TextReader._convert_with_dtype\u001b[0;34m()\u001b[0m\n",
            "\u001b[0;32m/usr/local/lib/python3.6/dist-packages/pandas/core/dtypes/common.py\u001b[0m in \u001b[0;36mis_categorical_dtype\u001b[0;34m(arr_or_dtype)\u001b[0m\n\u001b[1;32m    540\u001b[0m \u001b[0;34m\u001b[0m\u001b[0m\n\u001b[1;32m    541\u001b[0m \u001b[0;34m\u001b[0m\u001b[0m\n\u001b[0;32m--> 542\u001b[0;31m \u001b[0;32mdef\u001b[0m \u001b[0mis_categorical_dtype\u001b[0m\u001b[0;34m(\u001b[0m\u001b[0marr_or_dtype\u001b[0m\u001b[0;34m)\u001b[0m \u001b[0;34m->\u001b[0m \u001b[0mbool\u001b[0m\u001b[0;34m:\u001b[0m\u001b[0;34m\u001b[0m\u001b[0;34m\u001b[0m\u001b[0m\n\u001b[0m\u001b[1;32m    543\u001b[0m     \"\"\"\n\u001b[1;32m    544\u001b[0m     \u001b[0mCheck\u001b[0m \u001b[0mwhether\u001b[0m \u001b[0man\u001b[0m \u001b[0marray\u001b[0m\u001b[0;34m-\u001b[0m\u001b[0mlike\u001b[0m \u001b[0;32mor\u001b[0m \u001b[0mdtype\u001b[0m \u001b[0;32mis\u001b[0m \u001b[0mof\u001b[0m \u001b[0mthe\u001b[0m \u001b[0mCategorical\u001b[0m \u001b[0mdtype\u001b[0m\u001b[0;34m.\u001b[0m\u001b[0;34m\u001b[0m\u001b[0;34m\u001b[0m\u001b[0m\n",
            "\u001b[0;31mKeyboardInterrupt\u001b[0m: "
          ]
        }
      ]
    },
    {
      "cell_type": "code",
      "metadata": {
        "id": "wtlamBNL_tdx",
        "colab_type": "code",
        "colab": {}
      },
      "source": [
        "##This code should be executed only in the initial phase to generate validation set.\n",
        "from sklearn.model_selection import train_test_split\n",
        "\n",
        "train_data, valid_data = train_test_split(train_data_raw, test_size=0.2)"
      ],
      "execution_count": 0,
      "outputs": []
    },
    {
      "cell_type": "code",
      "metadata": {
        "id": "-4s58v_NAOeO",
        "colab_type": "code",
        "colab": {}
      },
      "source": [
        "#saveDataToCSV(train_data, 'drugsComTrain.csv')\n",
        "#saveDataToCSV(valid_data, 'drugsComValid.csv')\n",
        "#saveDataToCSV(test_data_raw, 'drugsComTest.csv')"
      ],
      "execution_count": 0,
      "outputs": []
    },
    {
      "cell_type": "markdown",
      "metadata": {
        "id": "cC82o-0QB3wl",
        "colab_type": "text"
      },
      "source": [
        "#### Dataset | Loading"
      ]
    },
    {
      "cell_type": "code",
      "metadata": {
        "id": "EiCkz6KIB9yE",
        "colab_type": "code",
        "colab": {}
      },
      "source": [
        "drug_train = dataPath + '/drugsComTrain.csv'\n",
        "drug_test = dataPath + '/drugsComTest.csv'\n",
        "drug_valid = dataPath + '/drugsComValid.csv'"
      ],
      "execution_count": 0,
      "outputs": []
    },
    {
      "cell_type": "code",
      "metadata": {
        "id": "ewVBZJr2B52-",
        "colab_type": "code",
        "colab": {}
      },
      "source": [
        "train_data = readFile(drug_train)\n",
        "valid_data = readFile(drug_valid)\n",
        "test_data = readFile(drug_test)"
      ],
      "execution_count": 0,
      "outputs": []
    },
    {
      "cell_type": "code",
      "metadata": {
        "id": "AUdGgU7GDTwM",
        "colab_type": "code",
        "outputId": "589246d8-97ed-4f9f-d1f7-9f35178e2492",
        "colab": {
          "base_uri": "https://localhost:8080/",
          "height": 66
        }
      },
      "source": [
        "print(\"Training set size {}\".format(train_data.size))\n",
        "print(\"Validation set size {}\".format(valid_data.size))\n",
        "print(\"Testing set size {}\".format(test_data.size))"
      ],
      "execution_count": 0,
      "outputs": [
        {
          "output_type": "stream",
          "text": [
            "Training set size 903259\n",
            "Validation set size 225820\n",
            "Testing set size 376362\n"
          ],
          "name": "stdout"
        }
      ]
    },
    {
      "cell_type": "code",
      "metadata": {
        "id": "GlrhTNOZEtqz",
        "colab_type": "code",
        "outputId": "9fc92fb1-e0b4-40e5-9816-d782debb8521",
        "colab": {
          "base_uri": "https://localhost:8080/",
          "height": 142
        }
      },
      "source": [
        "train_data.head(3)"
      ],
      "execution_count": 0,
      "outputs": [
        {
          "output_type": "execute_result",
          "data": {
            "text/html": [
              "<div>\n",
              "<style scoped>\n",
              "    .dataframe tbody tr th:only-of-type {\n",
              "        vertical-align: middle;\n",
              "    }\n",
              "\n",
              "    .dataframe tbody tr th {\n",
              "        vertical-align: top;\n",
              "    }\n",
              "\n",
              "    .dataframe thead th {\n",
              "        text-align: right;\n",
              "    }\n",
              "</style>\n",
              "<table border=\"1\" class=\"dataframe\">\n",
              "  <thead>\n",
              "    <tr style=\"text-align: right;\">\n",
              "      <th></th>\n",
              "      <th>id</th>\n",
              "      <th>drugName</th>\n",
              "      <th>condition</th>\n",
              "      <th>review</th>\n",
              "      <th>rating</th>\n",
              "      <th>date</th>\n",
              "      <th>usefulCount</th>\n",
              "    </tr>\n",
              "  </thead>\n",
              "  <tbody>\n",
              "    <tr>\n",
              "      <th>0</th>\n",
              "      <td>204048</td>\n",
              "      <td>Xerac AC</td>\n",
              "      <td>Hyperhidrosis</td>\n",
              "      <td>\"Wow! I had been struggling with excessive und...</td>\n",
              "      <td>10.0</td>\n",
              "      <td>May 15, 2010</td>\n",
              "      <td>10</td>\n",
              "    </tr>\n",
              "    <tr>\n",
              "      <th>1</th>\n",
              "      <td>52764</td>\n",
              "      <td>Carbidopa / levodopa</td>\n",
              "      <td>Parkinson's Disease</td>\n",
              "      <td>\"I have been on Rytary for 10 months. At first...</td>\n",
              "      <td>4.0</td>\n",
              "      <td>December 30, 2016</td>\n",
              "      <td>17</td>\n",
              "    </tr>\n",
              "    <tr>\n",
              "      <th>2</th>\n",
              "      <td>210591</td>\n",
              "      <td>Mirtazapine</td>\n",
              "      <td>Post Traumatic Stress Disorde</td>\n",
              "      <td>\"Hey  at least this one doesn&amp;#039;t make me m...</td>\n",
              "      <td>7.0</td>\n",
              "      <td>September 1, 2017</td>\n",
              "      <td>6</td>\n",
              "    </tr>\n",
              "  </tbody>\n",
              "</table>\n",
              "</div>"
            ],
            "text/plain": [
              "       id              drugName  ...               date usefulCount\n",
              "0  204048              Xerac AC  ...       May 15, 2010          10\n",
              "1   52764  Carbidopa / levodopa  ...  December 30, 2016          17\n",
              "2  210591           Mirtazapine  ...  September 1, 2017           6\n",
              "\n",
              "[3 rows x 7 columns]"
            ]
          },
          "metadata": {
            "tags": []
          },
          "execution_count": 62
        }
      ]
    },
    {
      "cell_type": "markdown",
      "metadata": {
        "id": "BB3AZiIrOE_s",
        "colab_type": "text"
      },
      "source": [
        "#### Dataset | Analysing\n"
      ]
    },
    {
      "cell_type": "markdown",
      "metadata": {
        "id": "1fqNuTD5OoMc",
        "colab_type": "text"
      },
      "source": [
        "Helper methods"
      ]
    },
    {
      "cell_type": "code",
      "metadata": {
        "id": "iPhXaWjZOrY4",
        "colab_type": "code",
        "colab": {}
      },
      "source": [
        "import matplotlib.pyplot as plt\n",
        "def drugsPerConditionGraph(data, groupby='', col='', asc=False): \n",
        "  top_drugCondition = data.groupby([groupby])[col].nunique().sort_values(ascending=asc)\n",
        "  top_drugCondition[0:30].plot(kind=\"bar\", figsize = (14,6), fontsize = 10,color=\"grey\")\n",
        "  plt.xlabel(\"Condition\", fontsize = 20)\n",
        "  plt.ylabel(\"No. of drugs\", fontsize = 20)\n",
        "  plt.title(\"The number of drugs per condition.\", fontsize = 20)\n",
        "  plt.figure()"
      ],
      "execution_count": 0,
      "outputs": []
    },
    {
      "cell_type": "code",
      "metadata": {
        "id": "_yIPhTakSxm8",
        "colab_type": "code",
        "colab": {}
      },
      "source": [
        "def findMissing(data):\n",
        "  missing = (data.isnull().sum()).sort_values(ascending=False)\n",
        "  print(\"Missing value (%):\", missing['condition']/data.shape[0] *100)\n",
        "  return missing"
      ],
      "execution_count": 0,
      "outputs": []
    },
    {
      "cell_type": "code",
      "metadata": {
        "id": "zvntihPQT4GZ",
        "colab_type": "code",
        "colab": {}
      },
      "source": [
        "def wrongConditions(data):\n",
        "  x = data[data['condition']=='3</span> users found this comment helpful.']\n",
        "  print(x)"
      ],
      "execution_count": 0,
      "outputs": []
    },
    {
      "cell_type": "code",
      "metadata": {
        "colab_type": "code",
        "id": "G2pku_vlYXOc",
        "outputId": "932da0fc-98a3-42d4-feb9-bf24c129a7de",
        "colab": {
          "base_uri": "https://localhost:8080/",
          "height": 50
        }
      },
      "source": [
        "print(\"Unique values of ids in Training set : \" ,len(train_data['id'].values))\n",
        "print(\"Instances in Training set: \" ,train_data.shape[0])"
      ],
      "execution_count": 0,
      "outputs": [
        {
          "output_type": "stream",
          "text": [
            "Unique values of ids in Training set :  129037\n",
            "Instances in Training set:  129037\n"
          ],
          "name": "stdout"
        }
      ]
    },
    {
      "cell_type": "code",
      "metadata": {
        "id": "o4LB87FJuo1o",
        "colab_type": "code",
        "colab": {}
      },
      "source": [
        "train_data[\"strlen\"] = train_data['review'].str.split().str.len()\n",
        "valid_data[\"strlen\"] = valid_data['review'].str.split().str.len()\n",
        "test_data[\"strlen\"] = test_data['review'].str.split().str.len()\n",
        "\n",
        "import matplotlib.pyplot as plt\n",
        "def reviewLength(data):\n",
        "  fig = plt.figure(figsize=(10, 10)) \n",
        "  plt.xlabel('Sentence length')\n",
        "  plt.ylabel('Number of sentences')\n",
        "  plt.title('Length of Sentences')\n",
        "  plt.hist(data[\"strlen\"], bins=86)\n",
        "  plt.show()\n",
        "\n",
        "  maxLen = data[\"strlen\"].max()\n",
        "  minLen = data[\"strlen\"].min()\n",
        "  meanLen = data[\"strlen\"].mean()\n",
        "\n",
        "  print ( \" Maximum review length %s \\n Minimum review length %s \\n Mean review length %s \\n\" %(maxLen, minLen, meanLen))\n",
        "\n",
        "  a,b,c,d,e = 0,0,0,0,0\n",
        "  for x in data['strlen']:\n",
        "    if x >=1000:\n",
        "      a = a+1\n",
        "    if x >=750:\n",
        "      b = b+1\n",
        "    if x >=250:\n",
        "      c = c+1\n",
        "    if x >=100:\n",
        "      d=d+1\n",
        "    if x <100:\n",
        "      e = e+1\n",
        "\n",
        "  print (\" No. of Reviews by Length \\n %s >1000 words \\n %s >750 words \\n %s >250 words \\n %s >100 words \\n %s <100 words\\n\" % (a,b,c,d,e))"
      ],
      "execution_count": 0,
      "outputs": []
    },
    {
      "cell_type": "code",
      "metadata": {
        "id": "6S5hMzTYQwjr",
        "colab_type": "code",
        "outputId": "c4f01f1e-48f7-4cff-a773-3603c17b3adf",
        "colab": {
          "base_uri": "https://localhost:8080/",
          "height": 1000
        }
      },
      "source": [
        "for d in [train_data, valid_data, test_data]:\n",
        "  drugsPerConditionGraph(d, 'condition', 'drugName')\n",
        "  missingVal = findMissing(d)\n",
        "  print(missingVal)\n",
        "  wrongConditions(d)\n",
        "  reviewLength(d)"
      ],
      "execution_count": 0,
      "outputs": [
        {
          "output_type": "stream",
          "text": [
            "Missing value (%): 0.562629323372366\n",
            "condition      726\n",
            "strlen           0\n",
            "usefulCount      0\n",
            "date             0\n",
            "rating           0\n",
            "review           0\n",
            "drugName         0\n",
            "id               0\n",
            "dtype: int64\n",
            "            id             drugName  ... usefulCount strlen\n",
            "504     149218               Mirena  ...           3     60\n",
            "923     157932             Accutane  ...           3    111\n",
            "1860    190392  Ortho Tri-Cyclen Lo  ...           3      9\n",
            "6677     43648         LoSeasonique  ...           3    129\n",
            "8880    133523        Proventil HFA  ...           3     22\n",
            "...        ...                  ...  ...         ...    ...\n",
            "123880   53668               Alesse  ...           3    102\n",
            "125480  230747              Tazorac  ...           3     83\n",
            "125906  220827       Loestrin 24 Fe  ...           3     94\n",
            "126195   33108           Seasonique  ...           3     84\n",
            "128882  213350              Nuvigil  ...           3     53\n",
            "\n",
            "[61 rows x 8 columns]\n"
          ],
          "name": "stdout"
        },
        {
          "output_type": "display_data",
          "data": {
            "image/png": "[encoded data removed]",
            "text/plain": [
              "<Figure size 1008x432 with 1 Axes>"
            ]
          },
          "metadata": {
            "tags": [],
            "needs_background": "light"
          }
        },
        {
          "output_type": "display_data",
          "data": {
            "text/plain": [
              "<Figure size 432x288 with 0 Axes>"
            ]
          },
          "metadata": {
            "tags": []
          }
        },
        {
          "output_type": "display_data",
          "data": {
            "image/png": "[encoded data removed]",
            "text/plain": [
              "<Figure size 720x720 with 1 Axes>"
            ]
          },
          "metadata": {
            "tags": [],
            "needs_background": "light"
          }
        },
        {
          "output_type": "stream",
          "text": [
            " Maximum review length 1894 \n",
            " Minimum review length 1 \n",
            " Mean review length 84.68728349233166 \n",
            "\n",
            " No. of Reviews by Length \n",
            " 3 >1000 words \n",
            " 8 >750 words \n",
            " 136 >250 words \n",
            " 52232 >100 words \n",
            " 76805 <100 words\n",
            "\n",
            "Missing value (%): 0.5362678239305642\n",
            "condition      173\n",
            "strlen           0\n",
            "usefulCount      0\n",
            "date             0\n",
            "rating           0\n",
            "review           0\n",
            "drugName         0\n",
            "id               0\n",
            "dtype: int64\n",
            "           id               drugName  ... usefulCount strlen\n",
            "79       6813                  Beyaz  ...           3     45\n",
            "2509    26399               Sprintec  ...           3     14\n",
            "3567   204167               Dilantin  ...           3     62\n",
            "5525   175861               Levaquin  ...           3     71\n",
            "7265    94908                Abilify  ...           3     65\n",
            "7613    43639           LoSeasonique  ...           3     45\n",
            "9094   123345                   Apri  ...           3     67\n",
            "9708   110557              Nexplanon  ...           3     82\n",
            "10036   33655  Microgestin Fe 1 / 20  ...           3    114\n",
            "10808   71380                 Levora  ...           3     90\n",
            "12354   40290                Savella  ...           3     61\n",
            "13446   56795                 Elavil  ...           3     45\n",
            "13743  159944                Bactrim  ...           3     78\n",
            "18217    7887                  Xanax  ...           3     93\n",
            "18952    4010            Seroquel XR  ...           3    132\n",
            "23230  151243              OxyContin  ...           3      9\n",
            "23471   81402                    Yaz  ...           3     84\n",
            "24168  151891                Chantix  ...           3    136\n",
            "25446    9991         Lo Loestrin Fe  ...           3     75\n",
            "26395  190356    Ortho Tri-Cyclen Lo  ...           3     14\n",
            "27777   80680  Tussionex Pennkinetic  ...           3     60\n",
            "31256  193722  Fioricet with Codeine  ...           3     22\n",
            "31743  220740         Loestrin 24 Fe  ...           3    146\n",
            "\n",
            "[23 rows x 8 columns]\n"
          ],
          "name": "stdout"
        },
        {
          "output_type": "display_data",
          "data": {
            "image/png": "[encoded data removed]",
            "text/plain": [
              "<Figure size 1008x432 with 1 Axes>"
            ]
          },
          "metadata": {
            "tags": [],
            "needs_background": "light"
          }
        },
        {
          "output_type": "display_data",
          "data": {
            "text/plain": [
              "<Figure size 432x288 with 0 Axes>"
            ]
          },
          "metadata": {
            "tags": []
          }
        },
        {
          "output_type": "display_data",
          "data": {
            "image/png": "[encoded data removed]",
            "text/plain": [
              "<Figure size 720x720 with 1 Axes>"
            ]
          },
          "metadata": {
            "tags": [],
            "needs_background": "light"
          }
        },
        {
          "output_type": "stream",
          "text": [
            " Maximum review length 1103 \n",
            " Minimum review length 1 \n",
            " Mean review length 84.74987600743955 \n",
            "\n",
            " No. of Reviews by Length \n",
            " 2 >1000 words \n",
            " 2 >750 words \n",
            " 32 >250 words \n",
            " 13116 >100 words \n",
            " 19144 <100 words\n",
            "\n",
            "Missing value (%): 0.5486738831231633\n",
            "condition      295\n",
            "strlen           0\n",
            "usefulCount      0\n",
            "date             0\n",
            "rating           0\n",
            "review           0\n",
            "drugName         0\n",
            "id               0\n",
            "dtype: int64\n",
            "           id                    drugName  ... usefulCount strlen\n",
            "4786   159772                     Bactrim  ...           3     50\n",
            "5146    33106                  Seasonique  ...           3     76\n",
            "6688   159222                    TriNessa  ...           3    108\n",
            "12051  201835                  Lo / Ovral  ...           3     38\n",
            "12105  176053                Neo-Poly-Dex  ...           3     66\n",
            "12707   33648       Microgestin Fe 1 / 20  ...           3     96\n",
            "16621  229987                   Lastacaft  ...           3     13\n",
            "17066  187132                     Safyral  ...           3     76\n",
            "21124   81427                         Yaz  ...           3    119\n",
            "26491   44714  Coricidin HBP Cough & Cold  ...           3     58\n",
            "27557    9932              Lo Loestrin Fe  ...           3    135\n",
            "30367   33070                  Seasonique  ...           3    104\n",
            "44473   26714                    Sprintec  ...           3    133\n",
            "44995    6475                      Ocella  ...           3    114\n",
            "46195  111980                      Gianvi  ...           3    140\n",
            "48041  149525                      Mirena  ...           3    117\n",
            "52443  133354                Tri-Sprintec  ...           3     77\n",
            "\n",
            "[17 rows x 8 columns]\n"
          ],
          "name": "stdout"
        },
        {
          "output_type": "display_data",
          "data": {
            "image/png": "[encoded data removed]",
            "text/plain": [
              "<Figure size 1008x432 with 1 Axes>"
            ]
          },
          "metadata": {
            "tags": [],
            "needs_background": "light"
          }
        },
        {
          "output_type": "display_data",
          "data": {
            "text/plain": [
              "<Figure size 432x288 with 0 Axes>"
            ]
          },
          "metadata": {
            "tags": []
          }
        },
        {
          "output_type": "display_data",
          "data": {
            "image/png": "[encoded data removed]",
            "text/plain": [
              "<Figure size 720x720 with 1 Axes>"
            ]
          },
          "metadata": {
            "tags": [],
            "needs_background": "light"
          }
        },
        {
          "output_type": "stream",
          "text": [
            " Maximum review length 1162 \n",
            " Minimum review length 1 \n",
            " Mean review length 84.62950563553174 \n",
            "\n",
            " No. of Reviews by Length \n",
            " 1 >1000 words \n",
            " 1 >750 words \n",
            " 42 >250 words \n",
            " 21873 >100 words \n",
            " 31893 <100 words\n",
            "\n"
          ],
          "name": "stdout"
        }
      ]
    },
    {
      "cell_type": "markdown",
      "metadata": {
        "id": "EofHlO3aOy7d",
        "colab_type": "text"
      },
      "source": [
        "#### Dataset | Cleaning"
      ]
    },
    {
      "cell_type": "code",
      "metadata": {
        "id": "uQocninDSTXi",
        "colab_type": "code",
        "colab": {}
      },
      "source": [
        "def removeSpanFromCondition(data):\n",
        "  span_list = []\n",
        "  for i,j in enumerate(data['condition']):\n",
        "      if '</span>' in j:\n",
        "          span_list.append(i)\n",
        "  return data.drop(data.index[span_list], inplace = True)\n"
      ],
      "execution_count": 0,
      "outputs": []
    },
    {
      "cell_type": "code",
      "metadata": {
        "id": "Wh26S8u7Tj9j",
        "colab_type": "code",
        "colab": {}
      },
      "source": [
        "def removeOneDrugCondition(data):\n",
        "  oneDrug_list = []\n",
        "  oneDrugCond = data.groupby(['condition'])['drugName'].nunique().sort_values(ascending=False)\n",
        "  oneDrugCond = pd.DataFrame(oneDrugCond).reset_index()\n",
        "  condition_1 = oneDrugCond[oneDrugCond['drugName']==1]\n",
        "  for i,j in enumerate(data['condition']):\n",
        "      for c in list(condition_1['condition']):\n",
        "          if j == c:\n",
        "              oneDrug_list.append(i)\n",
        "  return data.drop(data.index[oneDrug_list], inplace = True)"
      ],
      "execution_count": 0,
      "outputs": []
    },
    {
      "cell_type": "code",
      "metadata": {
        "id": "3SnKjIdgdLPR",
        "colab_type": "code",
        "colab": {}
      },
      "source": [
        "import re\n",
        "from nltk.tokenize import RegexpTokenizer\n",
        "def removePunctuationMarks(text):\n",
        "  tokenizer = RegexpTokenizer(r'\\w+')\n",
        "  result = tokenizer.tokenize(text)\n",
        "  nopuncttext = \" \".join(result)\n",
        "  return nopuncttext"
      ],
      "execution_count": 0,
      "outputs": []
    },
    {
      "cell_type": "code",
      "metadata": {
        "id": "y7L0wZ6zde58",
        "colab_type": "code",
        "colab": {}
      },
      "source": [
        "def removeNonEnglishChars(text):\n",
        "  text = re.sub(r'[^\\x00-\\x7f]',r'', text)\n",
        "  return text"
      ],
      "execution_count": 0,
      "outputs": []
    },
    {
      "cell_type": "code",
      "metadata": {
        "id": "AYtFMBMldbkp",
        "colab_type": "code",
        "colab": {}
      },
      "source": [
        "def removeUnderscore(text):\n",
        "  text = text.replace(\"_\", \"\");\n",
        "  return text"
      ],
      "execution_count": 0,
      "outputs": []
    },
    {
      "cell_type": "code",
      "metadata": {
        "id": "vM0qNN-THj9-",
        "colab_type": "code",
        "colab": {}
      },
      "source": [
        "def replaceApostrophe(text):\n",
        "  text = text.replace(\"&#039;\",\"\\'\")\n",
        "  return text"
      ],
      "execution_count": 0,
      "outputs": []
    },
    {
      "cell_type": "code",
      "metadata": {
        "id": "9b2tU1lXhRoM",
        "colab_type": "code",
        "colab": {}
      },
      "source": [
        "def removeThings(text):\n",
        "  t = replaceApostrophe(text)\n",
        "  t = removePunctuationMarks(t)\n",
        "  t = removeNonEnglishChars(t)\n",
        "  t = removeUnderscore(t)\n",
        "  return t"
      ],
      "execution_count": 0,
      "outputs": []
    },
    {
      "cell_type": "code",
      "metadata": {
        "id": "CU_2fzhBTTn_",
        "colab_type": "code",
        "colab": {}
      },
      "source": [
        "for d in [train_data, valid_data, test_data]:\n",
        "  d.dropna(axis=0, inplace = True)\n",
        "  removeSpanFromCondition(d)\n",
        "  removeOneDrugCondition(d)"
      ],
      "execution_count": 0,
      "outputs": []
    },
    {
      "cell_type": "code",
      "metadata": {
        "id": "H7X2mvUiK7FT",
        "colab_type": "code",
        "outputId": "09e69404-aab7-4030-a874-e277f4e38e14",
        "colab": {
          "base_uri": "https://localhost:8080/",
          "height": 133
        }
      },
      "source": [
        "train_data.head(3)"
      ],
      "execution_count": 0,
      "outputs": [
        {
          "output_type": "execute_result",
          "data": {
            "text/html": [
              "<div>\n",
              "<style scoped>\n",
              "    .dataframe tbody tr th:only-of-type {\n",
              "        vertical-align: middle;\n",
              "    }\n",
              "\n",
              "    .dataframe tbody tr th {\n",
              "        vertical-align: top;\n",
              "    }\n",
              "\n",
              "    .dataframe thead th {\n",
              "        text-align: right;\n",
              "    }\n",
              "</style>\n",
              "<table border=\"1\" class=\"dataframe\">\n",
              "  <thead>\n",
              "    <tr style=\"text-align: right;\">\n",
              "      <th></th>\n",
              "      <th>id</th>\n",
              "      <th>drugName</th>\n",
              "      <th>condition</th>\n",
              "      <th>review</th>\n",
              "      <th>rating</th>\n",
              "      <th>date</th>\n",
              "      <th>usefulCount</th>\n",
              "      <th>strlen</th>\n",
              "    </tr>\n",
              "  </thead>\n",
              "  <tbody>\n",
              "    <tr>\n",
              "      <th>0</th>\n",
              "      <td>204048</td>\n",
              "      <td>Xerac AC</td>\n",
              "      <td>Hyperhidrosis</td>\n",
              "      <td>\"Wow! I had been struggling with excessive und...</td>\n",
              "      <td>10.0</td>\n",
              "      <td>May 15, 2010</td>\n",
              "      <td>10</td>\n",
              "      <td>130</td>\n",
              "    </tr>\n",
              "    <tr>\n",
              "      <th>1</th>\n",
              "      <td>52764</td>\n",
              "      <td>Carbidopa / levodopa</td>\n",
              "      <td>Parkinson's Disease</td>\n",
              "      <td>\"I have been on Rytary for 10 months. At first...</td>\n",
              "      <td>4.0</td>\n",
              "      <td>December 30, 2016</td>\n",
              "      <td>17</td>\n",
              "      <td>148</td>\n",
              "    </tr>\n",
              "    <tr>\n",
              "      <th>2</th>\n",
              "      <td>210591</td>\n",
              "      <td>Mirtazapine</td>\n",
              "      <td>Post Traumatic Stress Disorde</td>\n",
              "      <td>\"Hey  at least this one doesn&amp;#039;t make me m...</td>\n",
              "      <td>7.0</td>\n",
              "      <td>September 1, 2017</td>\n",
              "      <td>6</td>\n",
              "      <td>86</td>\n",
              "    </tr>\n",
              "  </tbody>\n",
              "</table>\n",
              "</div>"
            ],
            "text/plain": [
              "       id              drugName  ... usefulCount strlen\n",
              "0  204048              Xerac AC  ...          10    130\n",
              "1   52764  Carbidopa / levodopa  ...          17    148\n",
              "2  210591           Mirtazapine  ...           6     86\n",
              "\n",
              "[3 rows x 8 columns]"
            ]
          },
          "metadata": {
            "tags": []
          },
          "execution_count": 57
        }
      ]
    },
    {
      "cell_type": "code",
      "metadata": {
        "id": "snrMmFnAeg2b",
        "colab_type": "code",
        "colab": {}
      },
      "source": [
        "train_data['clean_review'] = train_data['review'].apply(removeThings)\n",
        "valid_data['clean_review'] = valid_data['review'].apply(removeThings)\n",
        "test_data['clean_review'] = test_data['review'].apply(removeThings)"
      ],
      "execution_count": 0,
      "outputs": []
    },
    {
      "cell_type": "code",
      "metadata": {
        "id": "Y0CYya-QGen5",
        "colab_type": "code",
        "outputId": "37cbce08-939d-4520-e13c-28040383a371",
        "colab": {
          "base_uri": "https://localhost:8080/",
          "height": 71
        }
      },
      "source": [
        "pd.set_option('display.max_colwidth', -1)"
      ],
      "execution_count": 0,
      "outputs": [
        {
          "output_type": "stream",
          "text": [
            "/usr/local/lib/python3.6/dist-packages/ipykernel_launcher.py:1: FutureWarning: Passing a negative integer is deprecated in version 1.0 and will not be supported in future version. Instead, use None to not limit the column width.\n",
            "  \"\"\"Entry point for launching an IPython kernel.\n"
          ],
          "name": "stderr"
        }
      ]
    },
    {
      "cell_type": "code",
      "metadata": {
        "id": "liQR957JLCsL",
        "colab_type": "code",
        "outputId": "bd376c63-faf4-4737-e765-c2e23e451623",
        "colab": {
          "base_uri": "https://localhost:8080/",
          "height": 133
        }
      },
      "source": [
        " train_data.head(3)\n"
      ],
      "execution_count": 0,
      "outputs": [
        {
          "output_type": "execute_result",
          "data": {
            "text/html": [
              "<div>\n",
              "<style scoped>\n",
              "    .dataframe tbody tr th:only-of-type {\n",
              "        vertical-align: middle;\n",
              "    }\n",
              "\n",
              "    .dataframe tbody tr th {\n",
              "        vertical-align: top;\n",
              "    }\n",
              "\n",
              "    .dataframe thead th {\n",
              "        text-align: right;\n",
              "    }\n",
              "</style>\n",
              "<table border=\"1\" class=\"dataframe\">\n",
              "  <thead>\n",
              "    <tr style=\"text-align: right;\">\n",
              "      <th></th>\n",
              "      <th>id</th>\n",
              "      <th>drugName</th>\n",
              "      <th>condition</th>\n",
              "      <th>review</th>\n",
              "      <th>rating</th>\n",
              "      <th>date</th>\n",
              "      <th>usefulCount</th>\n",
              "      <th>clean_review</th>\n",
              "    </tr>\n",
              "  </thead>\n",
              "  <tbody>\n",
              "    <tr>\n",
              "      <th>0</th>\n",
              "      <td>204048</td>\n",
              "      <td>Xerac AC</td>\n",
              "      <td>Hyperhidrosis</td>\n",
              "      <td>\"Wow! I had been struggling with excessive und...</td>\n",
              "      <td>10.0</td>\n",
              "      <td>May 15, 2010</td>\n",
              "      <td>10</td>\n",
              "      <td>Wow I had been struggling with excessive under...</td>\n",
              "    </tr>\n",
              "    <tr>\n",
              "      <th>1</th>\n",
              "      <td>52764</td>\n",
              "      <td>Carbidopa / levodopa</td>\n",
              "      <td>Parkinson's Disease</td>\n",
              "      <td>\"I have been on Rytary for 10 months. At first...</td>\n",
              "      <td>4.0</td>\n",
              "      <td>December 30, 2016</td>\n",
              "      <td>17</td>\n",
              "      <td>I have been on Rytary for 10 months At first i...</td>\n",
              "    </tr>\n",
              "    <tr>\n",
              "      <th>2</th>\n",
              "      <td>210591</td>\n",
              "      <td>Mirtazapine</td>\n",
              "      <td>Post Traumatic Stress Disorde</td>\n",
              "      <td>\"Hey  at least this one doesn&amp;#039;t make me m...</td>\n",
              "      <td>7.0</td>\n",
              "      <td>September 1, 2017</td>\n",
              "      <td>6</td>\n",
              "      <td>Hey at least this one doesn t make me manic an...</td>\n",
              "    </tr>\n",
              "  </tbody>\n",
              "</table>\n",
              "</div>"
            ],
            "text/plain": [
              "       id  ...                                       clean_review\n",
              "0  204048  ...  Wow I had been struggling with excessive under...\n",
              "1   52764  ...  I have been on Rytary for 10 months At first i...\n",
              "2  210591  ...  Hey at least this one doesn t make me manic an...\n",
              "\n",
              "[3 rows x 8 columns]"
            ]
          },
          "metadata": {
            "tags": []
          },
          "execution_count": 63
        }
      ]
    },
    {
      "cell_type": "code",
      "metadata": {
        "id": "nUDtdZZWdtoj",
        "colab_type": "code",
        "outputId": "9706aebd-3f80-42bc-eecb-10082e5ea345",
        "colab": {
          "base_uri": "https://localhost:8080/",
          "height": 212
        }
      },
      "source": [
        "train_data['clean_review']\n",
        "valid_data['clean_review']\n",
        "test_data['clean_review']"
      ],
      "execution_count": 0,
      "outputs": [
        {
          "output_type": "execute_result",
          "data": {
            "text/plain": [
              "0        I ve tried a few antidepressants over the year...\n",
              "1        My son has Crohn s disease and has done very w...\n",
              "2                              Quick reduction of symptoms\n",
              "3        Contrave combines drugs that were used for alc...\n",
              "4        I have been on this birth control for one cycl...\n",
              "                               ...                        \n",
              "53760    I started taking Apri about 7 months ago My br...\n",
              "53762    I ve been taking Lexapro escitaploprgram since...\n",
              "53763    I m married 34 years old and I have no kids Ta...\n",
              "53764    I was prescribed Nucynta for severe neck shoul...\n",
              "53765                                             It works\n",
              "Name: clean_review, Length: 52858, dtype: object"
            ]
          },
          "metadata": {
            "tags": []
          },
          "execution_count": 59
        }
      ]
    },
    {
      "cell_type": "code",
      "metadata": {
        "id": "V5KHxYfldui9",
        "colab_type": "code",
        "colab": {}
      },
      "source": [
        "train_data = train_data.loc[train_data[\"strlen\"] <= 200]\n",
        "valid_data = valid_data.loc[valid_data[\"strlen\"] <= 200]\n",
        "test_data = test_data.loc[test_data[\"strlen\"] <= 200]"
      ],
      "execution_count": 0,
      "outputs": []
    },
    {
      "cell_type": "markdown",
      "metadata": {
        "id": "odPg0WlUO7BA",
        "colab_type": "text"
      },
      "source": [
        "#### Dataset | Analyses Post cleaning"
      ]
    },
    {
      "cell_type": "code",
      "metadata": {
        "id": "GX8m0F1maCJP",
        "colab_type": "code",
        "outputId": "5f11bfff-4a42-4dfd-8021-9295055c8e5d",
        "colab": {
          "base_uri": "https://localhost:8080/",
          "height": 1000
        }
      },
      "source": [
        "for d in [train_data, valid_data, test_data]:\n",
        "  drugsPerConditionGraph(d, 'condition', 'drugName')\n",
        "  missingVal = findMissing(d)\n",
        "  print(missingVal)\n",
        "  wrongConditions(d)\n",
        "  reviewLength(d)"
      ],
      "execution_count": 0,
      "outputs": [
        {
          "output_type": "stream",
          "text": [
            "Missing value (%): 0.0\n",
            "clean_review    0\n",
            "strlen          0\n",
            "usefulCount     0\n",
            "date            0\n",
            "rating          0\n",
            "review          0\n",
            "condition       0\n",
            "drugName        0\n",
            "id              0\n",
            "dtype: int64\n",
            "Empty DataFrame\n",
            "Columns: [id, drugName, condition, review, rating, date, usefulCount, strlen, clean_review]\n",
            "Index: []\n"
          ],
          "name": "stdout"
        },
        {
          "output_type": "display_data",
          "data": {
            "image/png": "[encoded data removed]",
            "text/plain": [
              "<Figure size 1008x432 with 1 Axes>"
            ]
          },
          "metadata": {
            "tags": [],
            "needs_background": "light"
          }
        },
        {
          "output_type": "display_data",
          "data": {
            "text/plain": [
              "<Figure size 432x288 with 0 Axes>"
            ]
          },
          "metadata": {
            "tags": []
          }
        },
        {
          "output_type": "display_data",
          "data": {
            "image/png": "[encoded data removed]",
            "text/plain": [
              "<Figure size 720x720 with 1 Axes>"
            ]
          },
          "metadata": {
            "tags": [],
            "needs_background": "light"
          }
        },
        {
          "output_type": "stream",
          "text": [
            " Maximum review length 199 \n",
            " Minimum review length 1 \n",
            " Mean review length 84.33921916243155 \n",
            "\n",
            " No. of Reviews by Length \n",
            " 0 >1000 words \n",
            " 0 >750 words \n",
            " 0 >250 words \n",
            " 51355 >100 words \n",
            " 75560 <100 words\n",
            "\n",
            "Missing value (%): 0.0\n",
            "clean_review    0\n",
            "strlen          0\n",
            "usefulCount     0\n",
            "date            0\n",
            "rating          0\n",
            "review          0\n",
            "condition       0\n",
            "drugName        0\n",
            "id              0\n",
            "dtype: int64\n",
            "Empty DataFrame\n",
            "Columns: [id, drugName, condition, review, rating, date, usefulCount, strlen, clean_review]\n",
            "Index: []\n"
          ],
          "name": "stdout"
        },
        {
          "output_type": "display_data",
          "data": {
            "image/png": "[encoded data removed]",
            "text/plain": [
              "<Figure size 1008x432 with 1 Axes>"
            ]
          },
          "metadata": {
            "tags": [],
            "needs_background": "light"
          }
        },
        {
          "output_type": "display_data",
          "data": {
            "text/plain": [
              "<Figure size 432x288 with 0 Axes>"
            ]
          },
          "metadata": {
            "tags": []
          }
        },
        {
          "output_type": "display_data",
          "data": {
            "image/png": "[encoded data removed]",
            "text/plain": [
              "<Figure size 720x720 with 1 Axes>"
            ]
          },
          "metadata": {
            "tags": [],
            "needs_background": "light"
          }
        },
        {
          "output_type": "stream",
          "text": [
            " Maximum review length 199 \n",
            " Minimum review length 1 \n",
            " Mean review length 84.59434799138259 \n",
            "\n",
            " No. of Reviews by Length \n",
            " 0 >1000 words \n",
            " 0 >750 words \n",
            " 0 >250 words \n",
            " 12896 >100 words \n",
            " 18668 <100 words\n",
            "\n",
            "Missing value (%): 0.0\n",
            "clean_review    0\n",
            "strlen          0\n",
            "usefulCount     0\n",
            "date            0\n",
            "rating          0\n",
            "review          0\n",
            "condition       0\n",
            "drugName        0\n",
            "id              0\n",
            "dtype: int64\n",
            "Empty DataFrame\n",
            "Columns: [id, drugName, condition, review, rating, date, usefulCount, strlen, clean_review]\n",
            "Index: []\n"
          ],
          "name": "stdout"
        },
        {
          "output_type": "display_data",
          "data": {
            "image/png": "[encoded data removed]",
            "text/plain": [
              "<Figure size 1008x432 with 1 Axes>"
            ]
          },
          "metadata": {
            "tags": [],
            "needs_background": "light"
          }
        },
        {
          "output_type": "display_data",
          "data": {
            "text/plain": [
              "<Figure size 432x288 with 0 Axes>"
            ]
          },
          "metadata": {
            "tags": []
          }
        },
        {
          "output_type": "display_data",
          "data": {
            "image/png": "[encoded data removed]",
            "text/plain": [
              "<Figure size 720x720 with 1 Axes>"
            ]
          },
          "metadata": {
            "tags": [],
            "needs_background": "light"
          }
        },
        {
          "output_type": "stream",
          "text": [
            " Maximum review length 198 \n",
            " Minimum review length 1 \n",
            " Mean review length 84.47611380512198 \n",
            "\n",
            " No. of Reviews by Length \n",
            " 0 >1000 words \n",
            " 0 >750 words \n",
            " 0 >250 words \n",
            " 21504 >100 words \n",
            " 31288 <100 words\n",
            "\n"
          ],
          "name": "stdout"
        }
      ]
    },
    {
      "cell_type": "code",
      "metadata": {
        "id": "Zjp1KRqifK5C",
        "colab_type": "code",
        "outputId": "7a54a2df-614c-457f-9fa9-ea360dc8dcbb",
        "colab": {
          "base_uri": "https://localhost:8080/",
          "height": 131
        }
      },
      "source": [
        "train_data.drop(['strlen'], axis=1, inplace=True)\n",
        "valid_data.drop(['strlen'], axis=1, inplace=True)\n",
        "test_data.drop(['strlen'], axis=1, inplace=True)"
      ],
      "execution_count": 0,
      "outputs": [
        {
          "output_type": "stream",
          "text": [
            "/usr/local/lib/python3.6/dist-packages/pandas/core/frame.py:3997: SettingWithCopyWarning:\n",
            "\n",
            "\n",
            "A value is trying to be set on a copy of a slice from a DataFrame\n",
            "\n",
            "See the caveats in the documentation: https://pandas.pydata.org/pandas-docs/stable/user_guide/indexing.html#returning-a-view-versus-a-copy\n",
            "\n"
          ],
          "name": "stderr"
        }
      ]
    },
    {
      "cell_type": "markdown",
      "metadata": {
        "id": "jdU8pSElPCXv",
        "colab_type": "text"
      },
      "source": [
        "#### Dataset | Pre-Processing"
      ]
    },
    {
      "cell_type": "code",
      "metadata": {
        "id": "jbCqSO8sbGj4",
        "colab_type": "code",
        "colab": {}
      },
      "source": [
        "all_data = pd.concat([train_data, valid_data, test_data])\n",
        "pos_all_data = all_data[all_data[\"rating\"]>5]\n",
        "neg_all_data = all_data[all_data[\"rating\"]<6]"
      ],
      "execution_count": 0,
      "outputs": []
    },
    {
      "cell_type": "code",
      "metadata": {
        "id": "V98H0Sp1cirC",
        "colab_type": "code",
        "colab": {}
      },
      "source": [
        "from plotly import subplots\n",
        "from collections import defaultdict\n",
        "from nltk.corpus import stopwords \n",
        "import plotly.graph_objs as go\n",
        "import plotly.offline as py"
      ],
      "execution_count": 0,
      "outputs": []
    },
    {
      "cell_type": "code",
      "metadata": {
        "id": "EbugzRRJBoka",
        "colab_type": "code",
        "outputId": "47ee91cf-7b47-43a8-9258-7d885ff10aba",
        "colab": {
          "base_uri": "https://localhost:8080/",
          "height": 51
        }
      },
      "source": [
        "import nltk\n",
        "nltk.download('stopwords')\n",
        "stop_words = set(stopwords.words('english'))"
      ],
      "execution_count": 0,
      "outputs": [
        {
          "output_type": "stream",
          "text": [
            "[nltk_data] Downloading package stopwords to /root/nltk_data...\n",
            "[nltk_data]   Unzipping corpora/stopwords.zip.\n"
          ],
          "name": "stdout"
        }
      ]
    },
    {
      "cell_type": "code",
      "metadata": {
        "id": "V7jgSe6Hbo5X",
        "colab_type": "code",
        "colab": {}
      },
      "source": [
        "def generateNgrams(text, n=1):\n",
        "    token = [token for token in text.lower().split(\" \") if token != \"\" if token not in stop_words]\n",
        "    ngrams = zip(*[token[i:] for i in range(n)])\n",
        "    return [\" \".join(ngram) for ngram in ngrams]"
      ],
      "execution_count": 0,
      "outputs": []
    },
    {
      "cell_type": "code",
      "metadata": {
        "id": "i05hvf157ycJ",
        "colab_type": "code",
        "colab": {}
      },
      "source": [
        "def drawNgramChart(data, color, n):\n",
        "    freqDict = defaultdict(int)\n",
        "    for line in data[\"review\"]:\n",
        "        for word in generateNgrams(line, n):\n",
        "            freqDict[word] += 1\n",
        "            \n",
        "    sortedFreqDict = pd.DataFrame(sorted(freqDict.items(), key=lambda x: x[1])[::-1])\n",
        "    sortedFreqDict.columns = [\"word\", \"wordcount\"]\n",
        "    sfd = sortedFreqDict.head(50)\n",
        "\n",
        "    trace = go.Bar(\n",
        "        y=sfd[\"word\"].values[::-1],\n",
        "        x=sfd[\"wordcount\"].values[::-1],\n",
        "        showlegend=False,\n",
        "        orientation = 'h',\n",
        "        marker=dict(\n",
        "            color=color,\n",
        "        ),\n",
        "    )\n",
        "    return trace"
      ],
      "execution_count": 0,
      "outputs": []
    },
    {
      "cell_type": "code",
      "metadata": {
        "id": "TeRTheyO8llM",
        "colab_type": "code",
        "colab": {}
      },
      "source": [
        "def createSubplots(tr0, tr1, n):\n",
        "  fig = subplots.make_subplots(rows=1, cols=2, vertical_spacing=0.04, horizontal_spacing=0.15,\n",
        "                            subplot_titles=[\"Frequent \" + str(n) +\"-grams of rating 1 to 5\", \n",
        "                                            \"Frequent \" + str(n) + \"-grams of rating 6 to 10\"])\n",
        "  fig.append_trace(tr0, 1, 1)\n",
        "  fig.append_trace(tr1, 1, 2)\n",
        "  fig['layout'].update(height=1200, width=1600, paper_bgcolor='rgb(233,233,233)', title= str(n) + \"-gram Count Plots\")\n",
        "  py.iplot(fig, filename='word-plots')"
      ],
      "execution_count": 0,
      "outputs": []
    },
    {
      "cell_type": "code",
      "metadata": {
        "id": "SH8IwIXL8n5P",
        "colab_type": "code",
        "colab": {}
      },
      "source": [
        "trace0_4 = drawNgramChart(neg_all_data, 'grey',4)\n",
        "trace1_4 = drawNgramChart(pos_all_data, 'grey',4)\n",
        "\n",
        "trace0_5 = drawNgramChart(neg_all_data, 'grey',5)\n",
        "trace1_5 = drawNgramChart(pos_all_data, 'grey',5)"
      ],
      "execution_count": 0,
      "outputs": []
    },
    {
      "cell_type": "code",
      "metadata": {
        "id": "ymlcUiqTADEJ",
        "colab_type": "code",
        "colab": {}
      },
      "source": [
        "createSubplots(trace0_4, trace1_4, 4)\n",
        "createSubplots(trace0_5, trace1_5, 5)\n"
      ],
      "execution_count": 0,
      "outputs": []
    },
    {
      "cell_type": "markdown",
      "metadata": {
        "id": "JYg7vkJShXQ0",
        "colab_type": "text"
      },
      "source": [
        "Instance Review Preprocessing (Cleaning)"
      ]
    },
    {
      "cell_type": "code",
      "metadata": {
        "id": "x3dZGkpahW5F",
        "colab_type": "code",
        "outputId": "4b5976f7-531c-4f12-aa23-941cf9a1c4ff",
        "colab": {
          "base_uri": "https://localhost:8080/",
          "height": 50
        }
      },
      "source": [
        "from bs4 import BeautifulSoup\n",
        "import nltk\n",
        "from nltk.corpus import stopwords\n",
        "from nltk.stem.snowball import SnowballStemmer\n",
        "nltk.download('stopwords')\n",
        "import re"
      ],
      "execution_count": 0,
      "outputs": [
        {
          "output_type": "stream",
          "text": [
            "[nltk_data] Downloading package stopwords to /root/nltk_data...\n",
            "[nltk_data]   Unzipping corpora/stopwords.zip.\n"
          ],
          "name": "stdout"
        }
      ]
    },
    {
      "cell_type": "code",
      "metadata": {
        "id": "edrYSSJEhfnZ",
        "colab_type": "code",
        "colab": {}
      },
      "source": [
        "not_stop = [\"aren't\",\"couldn't\",\"didn't\",\"doesn't\",\"don't\",\"hadn't\",\"hasn't\",\"haven't\",\"isn't\",\"mightn't\",\"mustn't\",\"needn't\",\"no\",\"nor\",\"not\",\"shan't\",\"shouldn't\",\"wasn't\",\"weren't\",\"wouldn't\"]\n",
        "for i in not_stop:\n",
        "    stop_words.remove(i)"
      ],
      "execution_count": 0,
      "outputs": []
    },
    {
      "cell_type": "code",
      "metadata": {
        "id": "s8I8zkgsh9u0",
        "colab_type": "code",
        "colab": {}
      },
      "source": [
        "stemmer = SnowballStemmer('english')\n",
        "\n",
        "def stemmetizeSentence(review):\n",
        "    text = re.sub('[^a-zA-Z]', ' ', review)\n",
        "    words = text.lower().split()\n",
        "    meaningWords = [w for w in words if not w in stop_words]\n",
        "    stemmedWords = [stemmer.stem(w) for w in meaningWords]\n",
        "    return( ' '.join(stemmedWords))"
      ],
      "execution_count": 0,
      "outputs": []
    },
    {
      "cell_type": "code",
      "metadata": {
        "id": "dtr8SJKGiLe3",
        "colab_type": "code",
        "colab": {}
      },
      "source": [
        "train_data['clean_review'] = train_data['clean_review'].apply(stemmetizeSentence)\n",
        "valid_data['clean_review'] = valid_data['clean_review'].apply(stemmetizeSentence)\n",
        "test_data['clean_review'] = test_data['clean_review'].apply(stemmetizeSentence)"
      ],
      "execution_count": 0,
      "outputs": []
    },
    {
      "cell_type": "code",
      "metadata": {
        "id": "dpqhFsvSQE1b",
        "colab_type": "code",
        "outputId": "ccf629c4-fb46-4389-84d7-49adbffcd169",
        "colab": {
          "base_uri": "https://localhost:8080/",
          "height": 139
        }
      },
      "source": [
        " train_data.head(3)\n",
        " x = train_data['clean_review'].head(5)\n",
        " print(x)"
      ],
      "execution_count": 0,
      "outputs": [
        {
          "output_type": "stream",
          "text": [
            "0    wow struggl excess underarm sweat sever year recent sweat made wors prescript medic wore black dark color month even wear sleeveless top sweat would sometim drip arm final went doctor frustrat immedi prescrib xerac ac note work mani patient use spare first night dab care main read potenti sting discomfort next day still sweat next night appli bit stung bit next day no sweat recommend                                                                  \n",
            "1    rytari month first work well pill mg mg time day one bedtim sinc th month increas dyskinesia muscl cramp novemb unstopp go hospit relax iv er not know heck scream pain tri differ dose time believ deliveri defect uneven no control deliveri not think pd diseas could progress tha fast month quot stabl quot control sinemet everi two hour total mg day sleep well bent pain never know                                                                        \n",
            "2    hey least one make manic suicid like zoloft prozac paxil mirtazipin seem gentl cousin drug realli say help depress anxieti much knock seam effect rem sleep bless disord though mg know not typic dose anxieti depress weari anyth boost serotonin                                                                                                                                                                                                                  \n",
            "3    never write review figur share truli life chang effexor suffer gad major depress disord quit time prozac five year stop work began take effexor xr mg start feel better calm less anxious last year someon date year recent broken pass away tragic disast dosag increas mg mg mg honest know would made today without medic control anxieti panic attack depress still bad day still mourn final feel normal                                                       \n",
            "4    medicin save life sever occas develop physic anxieti issu sever tingl lose balanc troubl drive insomnia etc year rd child born physician tri sever ssri tricycl antidepress made symptom wors ativan lorazepam help immedi symptom opinion miracl hate demon media medic communiti suffer month without sleep hard bare function normal set due crippl physic anxieti symptom someth provid relief take yes readi stop medicin reduc slowli long period time godsend\n",
            "Name: clean_review, dtype: object\n"
          ],
          "name": "stdout"
        }
      ]
    },
    {
      "cell_type": "markdown",
      "metadata": {
        "id": "DnS35G9OkHRX",
        "colab_type": "text"
      },
      "source": [
        "Model"
      ]
    },
    {
      "cell_type": "code",
      "metadata": {
        "id": "5W9YEIg0Vp9E",
        "colab_type": "code",
        "colab": {}
      },
      "source": [
        "train_data['sentiment'] = train_data[\"rating\"].apply(lambda x: 1 if x > 5 else 0)\n",
        "valid_data['sentiment'] = valid_data[\"rating\"].apply(lambda x: 1 if x > 5 else 0)\n",
        "test_data['sentiment'] = test_data[\"rating\"].apply(lambda x: 1 if x > 5 else 0)"
      ],
      "execution_count": 0,
      "outputs": []
    },
    {
      "cell_type": "code",
      "metadata": {
        "id": "Ecg994liTneo",
        "colab_type": "code",
        "outputId": "576e0981-c055-495e-dddd-6a073c64d7a1",
        "colab": {
          "base_uri": "https://localhost:8080/",
          "height": 70
        }
      },
      "source": [
        "saveDataToCSV(train_data, 'cleaned_Train_data.csv')\n",
        "saveDataToCSV(valid_data, 'cleaned_Valid_data.csv')\n",
        "saveDataToCSV(test_data, 'cleaned_Test_data.csv')"
      ],
      "execution_count": 0,
      "outputs": [
        {
          "output_type": "stream",
          "text": [
            "cleaned_Train_data.csv...saved to csv\n",
            "cleaned_Valid_data.csv...saved to csv\n",
            "cleaned_Test_data.csv...saved to csv\n"
          ],
          "name": "stdout"
        }
      ]
    },
    {
      "cell_type": "markdown",
      "metadata": {
        "id": "SvZv_JXhkIEK",
        "colab_type": "text"
      },
      "source": [
        "For Text Polarity"
      ]
    },
    {
      "cell_type": "code",
      "metadata": {
        "id": "FiTuah4u-mE1",
        "colab_type": "code",
        "colab": {}
      },
      "source": [
        "drug_train = dataPath + '/cleaned_Train_data.csv'\n",
        "drug_test = dataPath + '/cleaned_Test_data.csv'\n",
        "drug_valid = dataPath + '/cleaned_Valid_data.csv'"
      ],
      "execution_count": 0,
      "outputs": []
    },
    {
      "cell_type": "code",
      "metadata": {
        "id": "J2qTGXnDi4MQ",
        "colab_type": "code",
        "colab": {}
      },
      "source": [
        "def readFile1(fileName):\n",
        "  filedata = pd.read_csv(fileName, delimiter='\\t', header = None, skiprows=1)\n",
        "  filedata.columns = [\"id\", \"drugName\", \"condition\", \"review\", \"rating\", \"date\", \"usefulCount\", \"clean_review\", \"sentiment\"]\n",
        "  #filedata.drop(['review'], axis=1, inplace = True)\n",
        "  filedata.dropna(axis=0, inplace=True)\n",
        "  return filedata"
      ],
      "execution_count": 0,
      "outputs": []
    },
    {
      "cell_type": "code",
      "metadata": {
        "id": "38cDpq-Xhp42",
        "colab_type": "code",
        "colab": {}
      },
      "source": [
        "train_data = readFile1(drug_train)\n",
        "valid_data = readFile1(drug_valid)\n",
        "test_data = readFile1(drug_test)"
      ],
      "execution_count": 0,
      "outputs": []
    },
    {
      "cell_type": "code",
      "metadata": {
        "id": "EQYwt2Fc6ly4",
        "colab_type": "code",
        "colab": {}
      },
      "source": [
        "from textblob import TextBlob\n",
        "def predictSentiment(data):\n",
        "  blob = TextBlob(data)\n",
        "  Predict_Sentiment = blob.sentiment.polarity\n",
        "  return Predict_Sentiment\n",
        "\n",
        "train_data[\"Predict_Sentiment\"] = train_data[\"review\"].apply(predictSentiment)\n",
        "valid_data[\"Predict_Sentiment\"] = valid_data[\"review\"].apply(predictSentiment)\n",
        "test_data[\"Predict_Sentiment\"] = test_data[\"review\"].apply(predictSentiment)"
      ],
      "execution_count": 0,
      "outputs": []
    },
    {
      "cell_type": "code",
      "metadata": {
        "id": "WRKjOy3fjx7_",
        "colab_type": "code",
        "outputId": "a7ed9f27-75ba-4658-c01b-952af576b2c3",
        "colab": {
          "base_uri": "https://localhost:8080/",
          "height": 981
        }
      },
      "source": [
        "train_data.head(20)"
      ],
      "execution_count": 0,
      "outputs": [
        {
          "output_type": "execute_result",
          "data": {
            "text/html": [
              "<div>\n",
              "<style scoped>\n",
              "    .dataframe tbody tr th:only-of-type {\n",
              "        vertical-align: middle;\n",
              "    }\n",
              "\n",
              "    .dataframe tbody tr th {\n",
              "        vertical-align: top;\n",
              "    }\n",
              "\n",
              "    .dataframe thead th {\n",
              "        text-align: right;\n",
              "    }\n",
              "</style>\n",
              "<table border=\"1\" class=\"dataframe\">\n",
              "  <thead>\n",
              "    <tr style=\"text-align: right;\">\n",
              "      <th></th>\n",
              "      <th>id</th>\n",
              "      <th>drugName</th>\n",
              "      <th>condition</th>\n",
              "      <th>review</th>\n",
              "      <th>rating</th>\n",
              "      <th>date</th>\n",
              "      <th>usefulCount</th>\n",
              "      <th>clean_review</th>\n",
              "      <th>sentiment</th>\n",
              "    </tr>\n",
              "  </thead>\n",
              "  <tbody>\n",
              "    <tr>\n",
              "      <th>0</th>\n",
              "      <td>204048</td>\n",
              "      <td>Xerac AC</td>\n",
              "      <td>Hyperhidrosis</td>\n",
              "      <td>\"Wow! I had been struggling with excessive und...</td>\n",
              "      <td>10.0</td>\n",
              "      <td>May 15, 2010</td>\n",
              "      <td>10</td>\n",
              "      <td>wow struggl excess underarm sweat sever year r...</td>\n",
              "      <td>1</td>\n",
              "    </tr>\n",
              "    <tr>\n",
              "      <th>1</th>\n",
              "      <td>52764</td>\n",
              "      <td>Carbidopa / levodopa</td>\n",
              "      <td>Parkinson's Disease</td>\n",
              "      <td>\"I have been on Rytary for 10 months. At first...</td>\n",
              "      <td>4.0</td>\n",
              "      <td>December 30, 2016</td>\n",
              "      <td>17</td>\n",
              "      <td>rytari month first work well pill mg mg time d...</td>\n",
              "      <td>0</td>\n",
              "    </tr>\n",
              "    <tr>\n",
              "      <th>2</th>\n",
              "      <td>210591</td>\n",
              "      <td>Mirtazapine</td>\n",
              "      <td>Post Traumatic Stress Disorde</td>\n",
              "      <td>\"Hey  at least this one doesn&amp;#039;t make me m...</td>\n",
              "      <td>7.0</td>\n",
              "      <td>September 1, 2017</td>\n",
              "      <td>6</td>\n",
              "      <td>hey least one make manic suicid like zoloft pr...</td>\n",
              "      <td>1</td>\n",
              "    </tr>\n",
              "    <tr>\n",
              "      <th>3</th>\n",
              "      <td>131610</td>\n",
              "      <td>Effexor XR</td>\n",
              "      <td>Major Depressive Disorde</td>\n",
              "      <td>\"I never write reviews but I figured I had to ...</td>\n",
              "      <td>10.0</td>\n",
              "      <td>February 10, 2017</td>\n",
              "      <td>26</td>\n",
              "      <td>never write review figur share truli life chan...</td>\n",
              "      <td>1</td>\n",
              "    </tr>\n",
              "    <tr>\n",
              "      <th>4</th>\n",
              "      <td>132248</td>\n",
              "      <td>Ativan</td>\n",
              "      <td>Anxiety</td>\n",
              "      <td>\"This medicine has saved my life on several oc...</td>\n",
              "      <td>10.0</td>\n",
              "      <td>September 9, 2015</td>\n",
              "      <td>100</td>\n",
              "      <td>medicin save life sever occas develop physic a...</td>\n",
              "      <td>1</td>\n",
              "    </tr>\n",
              "    <tr>\n",
              "      <th>5</th>\n",
              "      <td>130137</td>\n",
              "      <td>Levonorgestrel</td>\n",
              "      <td>Birth Control</td>\n",
              "      <td>\"Mirena gave me my life back. Ever since I hit...</td>\n",
              "      <td>10.0</td>\n",
              "      <td>September 3, 2014</td>\n",
              "      <td>63</td>\n",
              "      <td>mirena gave life back ever sinc hit puberti ye...</td>\n",
              "      <td>1</td>\n",
              "    </tr>\n",
              "    <tr>\n",
              "      <th>6</th>\n",
              "      <td>2516</td>\n",
              "      <td>Camrese</td>\n",
              "      <td>Birth Control</td>\n",
              "      <td>\"I have been taking this birth control for abo...</td>\n",
              "      <td>7.0</td>\n",
              "      <td>July 12, 2017</td>\n",
              "      <td>1</td>\n",
              "      <td>take birth control year origin take lo seasoni...</td>\n",
              "      <td>1</td>\n",
              "    </tr>\n",
              "    <tr>\n",
              "      <th>7</th>\n",
              "      <td>23547</td>\n",
              "      <td>Methadone</td>\n",
              "      <td>Pain</td>\n",
              "      <td>\"I finally found a doctor who listened to me. ...</td>\n",
              "      <td>9.0</td>\n",
              "      <td>May 22, 2009</td>\n",
              "      <td>21</td>\n",
              "      <td>final found doctor listen methadon god send lo...</td>\n",
              "      <td>1</td>\n",
              "    </tr>\n",
              "    <tr>\n",
              "      <th>8</th>\n",
              "      <td>177259</td>\n",
              "      <td>Duloxetine</td>\n",
              "      <td>ibromyalgia</td>\n",
              "      <td>\"I did not notice a change while taking this m...</td>\n",
              "      <td>2.0</td>\n",
              "      <td>June 11, 2017</td>\n",
              "      <td>20</td>\n",
              "      <td>not notic chang take med still took year even ...</td>\n",
              "      <td>0</td>\n",
              "    </tr>\n",
              "    <tr>\n",
              "      <th>9</th>\n",
              "      <td>72030</td>\n",
              "      <td>Tramadol</td>\n",
              "      <td>Restless Legs Syndrome</td>\n",
              "      <td>\"Had restless legs for many years also had sci...</td>\n",
              "      <td>10.0</td>\n",
              "      <td>July 11, 2016</td>\n",
              "      <td>42</td>\n",
              "      <td>restless leg mani year also sciatica prescrib ...</td>\n",
              "      <td>1</td>\n",
              "    </tr>\n",
              "    <tr>\n",
              "      <th>10</th>\n",
              "      <td>39259</td>\n",
              "      <td>Contrave</td>\n",
              "      <td>Weight Loss</td>\n",
              "      <td>\"Been on this pill for 6 days and no loss of w...</td>\n",
              "      <td>1.0</td>\n",
              "      <td>March 21, 2017</td>\n",
              "      <td>5</td>\n",
              "      <td>pill day no loss weight first day felt weak sl...</td>\n",
              "      <td>0</td>\n",
              "    </tr>\n",
              "    <tr>\n",
              "      <th>11</th>\n",
              "      <td>194555</td>\n",
              "      <td>Atorvastatin</td>\n",
              "      <td>High Cholesterol, Familial Homozygous</td>\n",
              "      <td>\"Seems to work well\"</td>\n",
              "      <td>8.0</td>\n",
              "      <td>August 20, 2008</td>\n",
              "      <td>24</td>\n",
              "      <td>seem work well</td>\n",
              "      <td>1</td>\n",
              "    </tr>\n",
              "    <tr>\n",
              "      <th>12</th>\n",
              "      <td>197168</td>\n",
              "      <td>Paroxetine</td>\n",
              "      <td>Generalized Anxiety Disorde</td>\n",
              "      <td>\"Was on it and later Remeron for 3 months. Rem...</td>\n",
              "      <td>7.0</td>\n",
              "      <td>August 4, 2014</td>\n",
              "      <td>20</td>\n",
              "      <td>later remeron month remeron near instant help ...</td>\n",
              "      <td>1</td>\n",
              "    </tr>\n",
              "    <tr>\n",
              "      <th>13</th>\n",
              "      <td>190172</td>\n",
              "      <td>Ortho Tri-Cyclen Lo</td>\n",
              "      <td>Birth Control</td>\n",
              "      <td>\"I&amp;rsquo;ve been on this birth control for abo...</td>\n",
              "      <td>9.0</td>\n",
              "      <td>October 9, 2017</td>\n",
              "      <td>3</td>\n",
              "      <td>rsquo birth control year great experi boob got...</td>\n",
              "      <td>1</td>\n",
              "    </tr>\n",
              "    <tr>\n",
              "      <th>14</th>\n",
              "      <td>65053</td>\n",
              "      <td>Saphris</td>\n",
              "      <td>Bipolar Disorde</td>\n",
              "      <td>\"I have been on many Bipolar medicines, Lamict...</td>\n",
              "      <td>10.0</td>\n",
              "      <td>May 20, 2010</td>\n",
              "      <td>117</td>\n",
              "      <td>mani bipolar medicin lamict seroquel geodon li...</td>\n",
              "      <td>1</td>\n",
              "    </tr>\n",
              "    <tr>\n",
              "      <th>15</th>\n",
              "      <td>95157</td>\n",
              "      <td>Guanfacine</td>\n",
              "      <td>ADHD</td>\n",
              "      <td>\"My 10yr old daughter was put on this med a yr...</td>\n",
              "      <td>10.0</td>\n",
              "      <td>July 22, 2016</td>\n",
              "      <td>27</td>\n",
              "      <td>yr old daughter put med yr ago truli one best ...</td>\n",
              "      <td>1</td>\n",
              "    </tr>\n",
              "    <tr>\n",
              "      <th>16</th>\n",
              "      <td>80678</td>\n",
              "      <td>Tussionex Pennkinetic</td>\n",
              "      <td>Cough</td>\n",
              "      <td>\"This medicine has a built in phlegm breaker a...</td>\n",
              "      <td>9.0</td>\n",
              "      <td>September 8, 2011</td>\n",
              "      <td>16</td>\n",
              "      <td>medicin built phlegm breaker work well keep mu...</td>\n",
              "      <td>1</td>\n",
              "    </tr>\n",
              "    <tr>\n",
              "      <th>17</th>\n",
              "      <td>210525</td>\n",
              "      <td>Frova</td>\n",
              "      <td>Migraine</td>\n",
              "      <td>\"Frova is awesome! I have suffered with migrai...</td>\n",
              "      <td>10.0</td>\n",
              "      <td>August 5, 2010</td>\n",
              "      <td>10</td>\n",
              "      <td>frova awesom suffer migrain year tri mani diff...</td>\n",
              "      <td>1</td>\n",
              "    </tr>\n",
              "    <tr>\n",
              "      <th>18</th>\n",
              "      <td>222685</td>\n",
              "      <td>Topamax</td>\n",
              "      <td>Migraine Prevention</td>\n",
              "      <td>\"\\r\\nThis is the worst medication ever.  Start...</td>\n",
              "      <td>1.0</td>\n",
              "      <td>June 19, 2016</td>\n",
              "      <td>40</td>\n",
              "      <td>worst medic ever start mg day night move mg ni...</td>\n",
              "      <td>0</td>\n",
              "    </tr>\n",
              "    <tr>\n",
              "      <th>19</th>\n",
              "      <td>205817</td>\n",
              "      <td>Pristiq</td>\n",
              "      <td>Depression</td>\n",
              "      <td>\"I have been taking Zoloft for about 7 years a...</td>\n",
              "      <td>10.0</td>\n",
              "      <td>May 22, 2010</td>\n",
              "      <td>27</td>\n",
              "      <td>take zoloft year serious bout depress began mg...</td>\n",
              "      <td>1</td>\n",
              "    </tr>\n",
              "  </tbody>\n",
              "</table>\n",
              "</div>"
            ],
            "text/plain": [
              "        id  ... sentiment\n",
              "0   204048  ...         1\n",
              "1    52764  ...         0\n",
              "2   210591  ...         1\n",
              "3   131610  ...         1\n",
              "4   132248  ...         1\n",
              "5   130137  ...         1\n",
              "6     2516  ...         1\n",
              "7    23547  ...         1\n",
              "8   177259  ...         0\n",
              "9    72030  ...         1\n",
              "10   39259  ...         0\n",
              "11  194555  ...         1\n",
              "12  197168  ...         1\n",
              "13  190172  ...         1\n",
              "14   65053  ...         1\n",
              "15   95157  ...         1\n",
              "16   80678  ...         1\n",
              "17  210525  ...         1\n",
              "18  222685  ...         0\n",
              "19  205817  ...         1\n",
              "\n",
              "[20 rows x 9 columns]"
            ]
          },
          "metadata": {
            "tags": []
          },
          "execution_count": 11
        }
      ]
    }
  ]
}
